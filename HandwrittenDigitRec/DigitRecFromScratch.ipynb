{
 "cells": [
  {
   "cell_type": "code",
   "execution_count": 1,
   "metadata": {},
   "outputs": [
    {
     "name": "stdout",
     "output_type": "stream",
     "text": [
      "dim(X) =  (5000, 400)  dim(y) =  (5000, 1)\n"
     ]
    },
    {
     "data": {
      "image/png": "[encoded data removed]",
      "text/plain": [
       "<matplotlib.figure.Figure at 0x1df14dee320>"
      ]
     },
     "metadata": {},
     "output_type": "display_data"
    },
    {
     "data": {
      "image/png": "[encoded data removed]",
      "text/plain": [
       "<matplotlib.figure.Figure at 0x1df1213b6a0>"
      ]
     },
     "metadata": {},
     "output_type": "display_data"
    },
    {
     "data": {
      "image/png": "[encoded data removed]",
      "text/plain": [
       "<matplotlib.figure.Figure at 0x1df16f16898>"
      ]
     },
     "metadata": {},
     "output_type": "display_data"
    },
    {
     "data": {
      "image/png": "[encoded data removed]",
      "text/plain": [
       "<matplotlib.figure.Figure at 0x1df168176d8>"
      ]
     },
     "metadata": {},
     "output_type": "display_data"
    },
    {
     "data": {
      "image/png": "[encoded data removed]",
      "text/plain": [
       "<matplotlib.figure.Figure at 0x1df16f01c18>"
      ]
     },
     "metadata": {},
     "output_type": "display_data"
    },
    {
     "name": "stdout",
     "output_type": "stream",
     "text": [
      "Shape of the data (including X and Y) for random permutation:  (5000, 401)\n",
      "Before preprocessing, shapes of X_train, X_test, Y_train and Y_test:  (400, 3750) (400, 1250) (1, 3750) (1, 1250)\n",
      "After preprocessing, shapes of X_train and Y_train:  (400, 3750) (10, 3750)\n",
      "After preprocessing, shapes of X_test and Y_test:  (400, 1250) (10, 1250)\n"
     ]
    }
   ],
   "source": [
    "import numpy as np\n",
    "import matplotlib.pyplot as pt\n",
    "import scipy.io as sio\n",
    "from sklearn.metrics import accuracy_score, classification_report\n",
    "# Loading data\n",
    "mat = sio.loadmat(r\"C:\\Users\\Shivam\\Desktop\\a.mat\")\n",
    "X = np.array(mat['X'])\n",
    "Y = np.array(mat['y'])\n",
    "print(\"dim(X) = \", X.shape, \" dim(y) = \", Y.shape)\n",
    "\n",
    "# Displaying some of the samples\n",
    "def display_digit(OneSam):\n",
    "    OneSam = OneSam.reshape(20, 20).transpose()\n",
    "    pt.imshow(255-OneSam, cmap = 'gray')\n",
    "    pt.show()\n",
    "    \n",
    "for i in (1, 501, 1001, 1501, 2001):\n",
    "    display_digit(X[i])\n",
    "\n",
    "# Splitting data into training and test data\n",
    "data = np.concatenate((X, Y), axis = 1)\n",
    "print(\"Shape of the data (including X and Y) for random permutation: \", data.shape)\n",
    "data = np.random.permutation(data)\n",
    "mid = (int) ((3*data.shape[0]) / 4)\n",
    "X_train, Y_train = data[:mid, :400].T, data[:mid, 400:].T\n",
    "X_test, Y_test = data[mid:, :400].T, data[mid:, 400:].T\n",
    "print(\"Before preprocessing, shapes of X_train, X_test, Y_train and Y_test: \", X_train.shape, X_test.shape, Y_train.shape, Y_test.shape)\n",
    "\n",
    "# Preprocessing output for training data\n",
    "Y_train_p = np.zeros((10, Y_train.shape[1]))\n",
    "for i in range(Y_train.shape[1]):\n",
    "    index = (int)(Y_train[0][i] - 1)\n",
    "    Y_train_p[index][i] = 1\n",
    "print(\"After preprocessing, shapes of X_train and Y_train: \", X_train.shape, Y_train_p.shape)\n",
    "\n",
    "# Preprocessing output for test data\n",
    "Y_test_p = np.zeros((10, Y_test.shape[1]))\n",
    "for i in range(Y_test.shape[1]):\n",
    "    index = (int)(Y_test[0][i] - 1)\n",
    "    Y_test_p[index][i] = 1\n",
    "print(\"After preprocessing, shapes of X_test and Y_test: \", X_test.shape, Y_test_p.shape)\n",
    "\n",
    "#Some useful functions\n",
    "def sigmoid(Z):\n",
    "\n",
    "    A = 1/(1+np.exp(-Z))\n",
    "    cache = Z \n",
    "    return A, cache\n",
    "\n",
    "def relu(Z):\n",
    "\n",
    "    A = np.maximum(0,Z) \n",
    "    cache = Z \n",
    "    return A, cache\n",
    "\n",
    "\n",
    "def relu_backward(dA, cache):\n",
    "\n",
    "    Z = cache\n",
    "    dZ = np.array(dA, copy=True) # just converting dz to a correct object.\n",
    "    \n",
    "    # When z <= 0, you should set dz to 0 as well. \n",
    "    dZ[Z <= 0] = 0\n",
    "    \n",
    "    return dZ\n",
    "\n",
    "def sigmoid_backward(dA, cache):\n",
    "    \n",
    "    Z = cache\n",
    "    \n",
    "    s = 1/(1+np.exp(-Z))\n",
    "    dZ = dA * s * (1-s)\n",
    "    \n",
    "    return dZ"
   ]
  },
  {
   "cell_type": "code",
   "execution_count": null,
   "metadata": {
    "collapsed": true
   },
   "outputs": [],
   "source": [
    "class NeuralNetwork:\n",
    "    \n",
    "    parameters = {}\n",
    "    grads = {}\n",
    "    costs = []\n",
    "    costs_label = []\n",
    "    \n",
    "    def __init__(self, X, Y, layers_dims, learning_rate = 0.0075, num_iterations = 3000, print_cost=False, print_cost_frequency = 500, parameters_init_factor = 0.01):\n",
    "        \n",
    "        # Initializing the parameters\n",
    "        self.parameters = self.initialize_parameters(layers_dims, parameters_init_factor)\n",
    "\n",
    "        for i in range(0, num_iterations):\n",
    "            # Forward Propagation\n",
    "            AL, caches = self.forward_propagate(X, self.parameters)\n",
    "            cost = self.compute_cost(AL, Y)\n",
    "\n",
    "            # Backward propagation.\n",
    "            grads = self.backward_propagate(AL, Y, caches)\n",
    "\n",
    "            # Updating the parameters\n",
    "            self.parameters = self.update_parameters(self.parameters, grads, learning_rate)\n",
    "\n",
    "            if i % print_cost_frequency == 0:\n",
    "                \n",
    "                # Saving Costs At Regular Intervals\n",
    "                self.costs.append(cost)\n",
    "                self.costs_label.append(i)\n",
    "                \n",
    "                # Printing Cost If Demanded\n",
    "                if print_cost:\n",
    "                    print(\"Cost After {} Iterations: {}\".format(i, cost))\n",
    "        \n",
    "    def initialize_parameters(self, layers_dims, parameters_init_factor):\n",
    "        \n",
    "        L = len(layers_dims)\n",
    "        # layers_dims starts with dimension of the input layer and ends with the dimension of the output layer\n",
    "\n",
    "        for l in range(1, L):\n",
    "            self.parameters[\"W\" + str(l)] = np.random.randn(layers_dims[l], layers_dims[l - 1])*parameters_init_factor\n",
    "            self.parameters[\"b\" + str(l)] = np.zeros((layers_dims[l], 1))\n",
    "            \n",
    "        return self.parameters\n",
    "    \n",
    "    def forward_propagate(self, X, parameters):\n",
    "        \n",
    "        # A cache is to be returned, containing all the Z's, A's(activations) and the parameters \n",
    "        caches = []\n",
    "        A = X\n",
    "        L = len(parameters) // 2   # Since 'parameters' contain both wieghts and biases               \n",
    "        \n",
    "        for l in range(1, L):\n",
    "            A_prev = A \n",
    "            A, cache = self.linear_activation_forward(A_prev, self.parameters['W' + str(l)], self.parameters['b' + str(l)], 'relu')\n",
    "            caches.append(cache)\n",
    "            \n",
    "        AL, cache = self.linear_activation_forward(A, self.parameters['W' + str(L)], self.parameters['b' + str(L)], 'sigmoid')\n",
    "        caches.append(cache)\n",
    "        \n",
    "        return AL, caches\n",
    "    \n",
    "    def linear_activation_forward(self, A_prev, W, b, activation):\n",
    "        \n",
    "        Z, linear_cache = np.dot(W, A_prev) + b, (A_prev, W, b)\n",
    "        \n",
    "        if activation == \"sigmoid\": \n",
    "            A, activation_cache = sigmoid(Z)\n",
    "        elif activation == \"relu\":\n",
    "            A, activation_cache = relu(Z)\n",
    "            \n",
    "        cache = (linear_cache, activation_cache)\n",
    "\n",
    "        return A, cache\n",
    "    \n",
    "    def compute_cost(self, AL, Y):\n",
    "        \n",
    "        m = Y.shape[1]\n",
    "        \n",
    "        cost = - np.sum(np.sum(Y*np.log(AL) + (1 - Y)*np.log(1 - AL))) / m\n",
    "\n",
    "        cost = np.squeeze(cost)      # To make sure that cost's shape is what we expect (e.g. this turns [[17]] into 17).\n",
    "        \n",
    "        return cost\n",
    "    \n",
    "    def backward_propagate(self, AL, Y, caches):\n",
    "        grads = {}\n",
    "        L = len(caches) # the number of layers\n",
    "        m = AL.shape[1]\n",
    "        Y = Y.reshape(AL.shape) # after this line, Y is the same shape as AL\n",
    "\n",
    "        # Initializing the backpropagation\n",
    "        dAL = - (np.divide(Y, AL) - np.divide(1 - Y, 1 - AL))\n",
    "\n",
    "        # Backpropagation for the output layer (sigmoid activation)\n",
    "        current_cache = caches[L - 1]\n",
    "        grads[\"dA\" + str(L)], grads[\"dW\" + str(L)], grads[\"db\" + str(L)] = self.linear_activation_backward(dAL, current_cache, activation = 'sigmoid') \n",
    "\n",
    "\n",
    "        for l in reversed(range(L-1)):\n",
    "            # Backpropagation for the hidden layers (ReLU activation)\n",
    "            current_cache = caches[l]\n",
    "            dA_prev_temp, dW_temp, db_temp = self.linear_activation_backward(grads['dA' + str(l + 2)], current_cache, activation = 'relu')\n",
    "            grads[\"dA\" + str(l + 1)] = dA_prev_temp\n",
    "            grads[\"dW\" + str(l + 1)] = dW_temp\n",
    "            grads[\"db\" + str(l + 1)] = db_temp\n",
    "\n",
    "        return grads\n",
    "    \n",
    "    def linear_activation_backward(self, dA, cache, activation):\n",
    "        \n",
    "        linear_cache, activation_cache = cache\n",
    "        A_prev, W, b = linear_cache[0], linear_cache[1], linear_cache[2]\n",
    "        m = A_prev.shape[1]\n",
    "        \n",
    "        if activation == \"relu\":\n",
    "            dZ = relu_backward(dA, activation_cache)\n",
    "            \n",
    "        elif activation == \"sigmoid\":\n",
    "            dZ = sigmoid_backward(dA, activation_cache)\n",
    "        \n",
    "        dA_prev, dW, db = np.dot(W.T, dZ), np.dot(dZ, A_prev.T) / m, np.sum(dZ, axis = 1, keepdims = True) / m \n",
    "     \n",
    "        return dA_prev, dW, db\n",
    "    \n",
    "    \n",
    "    def update_parameters(self, parameters, grads, learning_rate):   \n",
    "\n",
    "        L = len(parameters) // 2    # Since parameters contain both Weights and Biases\n",
    "\n",
    "        for l in range(1, L + 1):\n",
    "            self.parameters[\"W\" + str(l)] = self.parameters[\"W\" + str(l)] - grads[\"dW\" + str(l)]*learning_rate\n",
    "            self.parameters[\"b\" + str(l)] = self.parameters[\"b\" + str(l)] - grads[\"db\" + str(l)]*learning_rate\n",
    "\n",
    "        return parameters\n",
    "    \n",
    "    \n",
    "    def predict(self, X):\n",
    "        \n",
    "        y_pred = self.forward_propagate(X, self.parameters)[0]\n",
    "        y_pred_ret = np.zeros(y_pred.shape)\n",
    "        \n",
    "        for i in range(y_pred.shape[1]):\n",
    "            \n",
    "            max_index, max_value = 0, y_pred[0][i]\n",
    "            \n",
    "            for j in range(1, y_pred.shape[0]):\n",
    "                if(y_pred[j][i] > max_value):\n",
    "                    max_value = y_pred[j][i]\n",
    "                    max_index = j\n",
    "                    \n",
    "            y_pred_ret[max_index][i] = 1\n",
    "                \n",
    "        return y_pred_ret\n",
    "    \n",
    "    def plotCost(self):\n",
    "        \n",
    "        pt.plot(self.costs, self.costs_label, color = 'green')\n",
    "        "
   ]
  },
  {
   "cell_type": "code",
   "execution_count": null,
   "metadata": {},
   "outputs": [
    {
     "name": "stdout",
     "output_type": "stream",
     "text": [
      "Cost After 0 Iterations: 6.93062353797494\n",
      "Cost After 100 Iterations: 2.721806373909184\n",
      "Cost After 200 Iterations: 1.6135589367385028\n",
      "Cost After 300 Iterations: 1.14839226622042\n",
      "Cost After 400 Iterations: 0.9243296861794867\n",
      "Cost After 500 Iterations: 0.7877552781140158\n",
      "Cost After 600 Iterations: 0.702150635228113\n",
      "Cost After 700 Iterations: 0.6435924465114172\n",
      "Cost After 800 Iterations: 0.5981172292608863\n",
      "Cost After 900 Iterations: 0.5616162377000397\n",
      "Cost After 1000 Iterations: 0.531366142390077\n",
      "Cost After 1100 Iterations: 0.505478576185716\n",
      "Cost After 1200 Iterations: 0.48273566165282733\n",
      "Cost After 1300 Iterations: 0.4623394453700848\n",
      "Cost After 1400 Iterations: 0.4437647987641383\n",
      "Cost After 1500 Iterations: 0.4264925072899672\n",
      "Cost After 1600 Iterations: 0.4102064809056809\n",
      "Cost After 1700 Iterations: 0.39517058331683613\n",
      "Cost After 1800 Iterations: 0.38108924598182714\n",
      "Cost After 1900 Iterations: 0.3678011683620496\n",
      "Cost After 2000 Iterations: 0.35531672349867643\n",
      "Cost After 2100 Iterations: 0.3436216264785128\n",
      "Cost After 2200 Iterations: 0.33260663961504916\n",
      "Cost After 2300 Iterations: 0.3221388150772159\n",
      "Cost After 2400 Iterations: 0.3122205548773768\n",
      "Cost After 2500 Iterations: 0.3027736560586544\n",
      "Cost After 2600 Iterations: 0.2937751067633065\n",
      "Cost After 2700 Iterations: 0.28516182162139353\n",
      "Cost After 2800 Iterations: 0.27685083137694794\n",
      "Cost After 2900 Iterations: 0.2687425291058655\n",
      "Cost After 3000 Iterations: 0.26087129257689756\n",
      "Cost After 3100 Iterations: 0.25332949753760664\n",
      "Cost After 3200 Iterations: 0.24608609949879312\n",
      "Cost After 3300 Iterations: 0.23911543494828844\n",
      "Cost After 3400 Iterations: 0.2324577651890539\n",
      "Cost After 3500 Iterations: 0.22604799572968196\n",
      "Cost After 3600 Iterations: 0.21986670466548816\n",
      "Cost After 3700 Iterations: 0.2138774598055191\n",
      "Cost After 3800 Iterations: 0.20813140700184213\n",
      "Cost After 3900 Iterations: 0.20258357760287313\n",
      "Cost After 4000 Iterations: 0.1972316117689545\n",
      "Cost After 4100 Iterations: 0.19204647690430066\n",
      "Cost After 4200 Iterations: 0.18703374402298928\n",
      "Cost After 4300 Iterations: 0.18218058932443898\n",
      "Cost After 4400 Iterations: 0.17749768197450236\n"
     ]
    }
   ],
   "source": [
    "myNN = NeuralNetwork(X_train, Y_train_p, layers_dims = (X_train.shape[0], 30, 10), learning_rate = 0.1, num_iterations = 5000, print_cost=True, print_cost_frequency = 100, parameters_init_factor = 0.01)"
   ]
  },
  {
   "cell_type": "code",
   "execution_count": null,
   "metadata": {
    "collapsed": true
   },
   "outputs": [],
   "source": [
    "myNN.plotCost()\n",
    "y_test_pred = myNN.predict(X_test)\n",
    "y_train_pred = myNN.predict(X_train)"
   ]
  },
  {
   "cell_type": "code",
   "execution_count": null,
   "metadata": {},
   "outputs": [],
   "source": [
    "print(Y_train_p.shape, y_train_pred.shape)"
   ]
  },
  {
   "cell_type": "code",
   "execution_count": null,
   "metadata": {},
   "outputs": [],
   "source": [
    "print(\"Accuracy on training set: \", accuracy_score(Y_train_p.T, y_train_pred.T)*100)"
   ]
  },
  {
   "cell_type": "code",
   "execution_count": null,
   "metadata": {},
   "outputs": [],
   "source": [
    "print(\"Accuracy on test set: \", accuracy_score(Y_test_p.T, y_test_pred.T)*100)"
   ]
  },
  {
   "cell_type": "code",
   "execution_count": null,
   "metadata": {},
   "outputs": [],
   "source": [
    "print(\"Classification Report: \\n\", classification_report(Y_test_p.T, y_test_pred.T))"
   ]
  }
 ],
 "metadata": {
  "kernelspec": {
   "display_name": "Python 3",
   "language": "python",
   "name": "python3"
  },
  "language_info": {
   "codemirror_mode": {
    "name": "ipython",
    "version": 3
   },
   "file_extension": ".py",
   "mimetype": "text/x-python",
   "name": "python",
   "nbconvert_exporter": "python",
   "pygments_lexer": "ipython3",
   "version": "3.6.2"
  }
 },
 "nbformat": 4,
 "nbformat_minor": 2
}
