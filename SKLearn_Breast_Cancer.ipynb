{
 "cells": [
  {
   "cell_type": "code",
   "execution_count": 1,
   "metadata": {
    "collapsed": true
   },
   "outputs": [],
   "source": [
    "from sklearn.datasets import load_breast_cancer"
   ]
  },
  {
   "cell_type": "code",
   "execution_count": 2,
   "metadata": {
    "collapsed": true
   },
   "outputs": [],
   "source": [
    "cancer = load_breast_cancer()"
   ]
  },
  {
   "cell_type": "code",
   "execution_count": 3,
   "metadata": {},
   "outputs": [
    {
     "data": {
      "text/plain": [
       "dict_keys(['data', 'target', 'target_names', 'DESCR', 'feature_names'])"
      ]
     },
     "execution_count": 3,
     "metadata": {},
     "output_type": "execute_result"
    }
   ],
   "source": [
    "cancer.keys()"
   ]
  },
  {
   "cell_type": "code",
   "execution_count": 7,
   "metadata": {},
   "outputs": [
    {
     "name": "stdout",
     "output_type": "stream",
     "text": [
      "569 30\n"
     ]
    }
   ],
   "source": [
    "print(len(cancer['data']), len(cancer['data'][0]))"
   ]
  },
  {
   "cell_type": "code",
   "execution_count": 8,
   "metadata": {},
   "outputs": [
    {
     "name": "stdout",
     "output_type": "stream",
     "text": [
      "['mean radius' 'mean texture' 'mean perimeter' 'mean area'\n",
      " 'mean smoothness' 'mean compactness' 'mean concavity'\n",
      " 'mean concave points' 'mean symmetry' 'mean fractal dimension'\n",
      " 'radius error' 'texture error' 'perimeter error' 'area error'\n",
      " 'smoothness error' 'compactness error' 'concavity error'\n",
      " 'concave points error' 'symmetry error' 'fractal dimension error'\n",
      " 'worst radius' 'worst texture' 'worst perimeter' 'worst area'\n",
      " 'worst smoothness' 'worst compactness' 'worst concavity'\n",
      " 'worst concave points' 'worst symmetry' 'worst fractal dimension']\n"
     ]
    }
   ],
   "source": [
    "print(cancer['feature_names'])"
   ]
  },
  {
   "cell_type": "code",
   "execution_count": 9,
   "metadata": {},
   "outputs": [
    {
     "name": "stdout",
     "output_type": "stream",
     "text": [
      "30\n"
     ]
    }
   ],
   "source": [
    "print(len(cancer['feature_names']))"
   ]
  },
  {
   "cell_type": "markdown",
   "metadata": {},
   "source": [
    "So we conclude here that there are 569 examples, each having 30 features."
   ]
  },
  {
   "cell_type": "code",
   "execution_count": 10,
   "metadata": {},
   "outputs": [
    {
     "name": "stdout",
     "output_type": "stream",
     "text": [
      "[0 0 0 0 0 0 0 0 0 0 0 0 0 0 0 0 0 0 0 1 1 1 0 0 0 0 0 0 0 0 0 0 0 0 0 0 0\n",
      " 1 0 0 0 0 0 0 0 0 1 0 1 1 1 1 1 0 0 1 0 0 1 1 1 1 0 1 0 0 1 1 1 1 0 1 0 0\n",
      " 1 0 1 0 0 1 1 1 0 0 1 0 0 0 1 1 1 0 1 1 0 0 1 1 1 0 0 1 1 1 1 0 1 1 0 1 1\n",
      " 1 1 1 1 1 1 0 0 0 1 0 0 1 1 1 0 0 1 0 1 0 0 1 0 0 1 1 0 1 1 0 1 1 1 1 0 1\n",
      " 1 1 1 1 1 1 1 1 0 1 1 1 1 0 0 1 0 1 1 0 0 1 1 0 0 1 1 1 1 0 1 1 0 0 0 1 0\n",
      " 1 0 1 1 1 0 1 1 0 0 1 0 0 0 0 1 0 0 0 1 0 1 0 1 1 0 1 0 0 0 0 1 1 0 0 1 1\n",
      " 1 0 1 1 1 1 1 0 0 1 1 0 1 1 0 0 1 0 1 1 1 1 0 1 1 1 1 1 0 1 0 0 0 0 0 0 0\n",
      " 0 0 0 0 0 0 0 1 1 1 1 1 1 0 1 0 1 1 0 1 1 0 1 0 0 1 1 1 1 1 1 1 1 1 1 1 1\n",
      " 1 0 1 1 0 1 0 1 1 1 1 1 1 1 1 1 1 1 1 1 1 0 1 1 1 0 1 0 1 1 1 1 0 0 0 1 1\n",
      " 1 1 0 1 0 1 0 1 1 1 0 1 1 1 1 1 1 1 0 0 0 1 1 1 1 1 1 1 1 1 1 1 0 0 1 0 0\n",
      " 0 1 0 0 1 1 1 1 1 0 1 1 1 1 1 0 1 1 1 0 1 1 0 0 1 1 1 1 1 1 0 1 1 1 1 1 1\n",
      " 1 0 1 1 1 1 1 0 1 1 0 1 1 1 1 1 1 1 1 1 1 1 1 0 1 0 0 1 0 1 1 1 1 1 0 1 1\n",
      " 0 1 0 1 1 0 1 0 1 1 1 1 1 1 1 1 0 0 1 1 1 1 1 1 0 1 1 1 1 1 1 1 1 1 1 0 1\n",
      " 1 1 1 1 1 1 0 1 0 1 1 0 1 1 1 1 1 0 0 1 0 1 0 1 1 1 1 1 0 1 1 0 1 0 1 0 0\n",
      " 1 1 1 0 1 1 1 1 1 1 1 1 1 1 1 0 1 0 0 1 1 1 1 1 1 1 1 1 1 1 1 1 1 1 1 1 1\n",
      " 1 1 1 1 1 1 1 0 0 0 0 0 0 1]\n"
     ]
    }
   ],
   "source": [
    "print(cancer['target'])"
   ]
  },
  {
   "cell_type": "code",
   "execution_count": 11,
   "metadata": {},
   "outputs": [
    {
     "name": "stdout",
     "output_type": "stream",
     "text": [
      "569\n"
     ]
    }
   ],
   "source": [
    "print(len(cancer['target']))"
   ]
  },
  {
   "cell_type": "code",
   "execution_count": 13,
   "metadata": {},
   "outputs": [
    {
     "name": "stdout",
     "output_type": "stream",
     "text": [
      "['malignant' 'benign']\n"
     ]
    }
   ],
   "source": [
    "print(cancer['target_names'])"
   ]
  },
  {
   "cell_type": "raw",
   "metadata": {},
   "source": [
    "Here we conclude that 0 stands for malignant and 1 stands for benign in the target matrix."
   ]
  },
  {
   "cell_type": "code",
   "execution_count": 14,
   "metadata": {},
   "outputs": [
    {
     "name": "stdout",
     "output_type": "stream",
     "text": [
      "Breast Cancer Wisconsin (Diagnostic) Database\n",
      "=============================================\n",
      "\n",
      "Notes\n",
      "-----\n",
      "Data Set Characteristics:\n",
      "    :Number of Instances: 569\n",
      "\n",
      "    :Number of Attributes: 30 numeric, predictive attributes and the class\n",
      "\n",
      "    :Attribute Information:\n",
      "        - radius (mean of distances from center to points on the perimeter)\n",
      "        - texture (standard deviation of gray-scale values)\n",
      "        - perimeter\n",
      "        - area\n",
      "        - smoothness (local variation in radius lengths)\n",
      "        - compactness (perimeter^2 / area - 1.0)\n",
      "        - concavity (severity of concave portions of the contour)\n",
      "        - concave points (number of concave portions of the contour)\n",
      "        - symmetry \n",
      "        - fractal dimension (\"coastline approximation\" - 1)\n",
      "\n",
      "        The mean, standard error, and \"worst\" or largest (mean of the three\n",
      "        largest values) of these features were computed for each image,\n",
      "        resulting in 30 features.  For instance, field 3 is Mean Radius, field\n",
      "        13 is Radius SE, field 23 is Worst Radius.\n",
      "\n",
      "        - class:\n",
      "                - WDBC-Malignant\n",
      "                - WDBC-Benign\n",
      "\n",
      "    :Summary Statistics:\n",
      "\n",
      "    ===================================== ====== ======\n",
      "                                           Min    Max\n",
      "    ===================================== ====== ======\n",
      "    radius (mean):                        6.981  28.11\n",
      "    texture (mean):                       9.71   39.28\n",
      "    perimeter (mean):                     43.79  188.5\n",
      "    area (mean):                          143.5  2501.0\n",
      "    smoothness (mean):                    0.053  0.163\n",
      "    compactness (mean):                   0.019  0.345\n",
      "    concavity (mean):                     0.0    0.427\n",
      "    concave points (mean):                0.0    0.201\n",
      "    symmetry (mean):                      0.106  0.304\n",
      "    fractal dimension (mean):             0.05   0.097\n",
      "    radius (standard error):              0.112  2.873\n",
      "    texture (standard error):             0.36   4.885\n",
      "    perimeter (standard error):           0.757  21.98\n",
      "    area (standard error):                6.802  542.2\n",
      "    smoothness (standard error):          0.002  0.031\n",
      "    compactness (standard error):         0.002  0.135\n",
      "    concavity (standard error):           0.0    0.396\n",
      "    concave points (standard error):      0.0    0.053\n",
      "    symmetry (standard error):            0.008  0.079\n",
      "    fractal dimension (standard error):   0.001  0.03\n",
      "    radius (worst):                       7.93   36.04\n",
      "    texture (worst):                      12.02  49.54\n",
      "    perimeter (worst):                    50.41  251.2\n",
      "    area (worst):                         185.2  4254.0\n",
      "    smoothness (worst):                   0.071  0.223\n",
      "    compactness (worst):                  0.027  1.058\n",
      "    concavity (worst):                    0.0    1.252\n",
      "    concave points (worst):               0.0    0.291\n",
      "    symmetry (worst):                     0.156  0.664\n",
      "    fractal dimension (worst):            0.055  0.208\n",
      "    ===================================== ====== ======\n",
      "\n",
      "    :Missing Attribute Values: None\n",
      "\n",
      "    :Class Distribution: 212 - Malignant, 357 - Benign\n",
      "\n",
      "    :Creator:  Dr. William H. Wolberg, W. Nick Street, Olvi L. Mangasarian\n",
      "\n",
      "    :Donor: Nick Street\n",
      "\n",
      "    :Date: November, 1995\n",
      "\n",
      "This is a copy of UCI ML Breast Cancer Wisconsin (Diagnostic) datasets.\n",
      "https://goo.gl/U2Uwz2\n",
      "\n",
      "Features are computed from a digitized image of a fine needle\n",
      "aspirate (FNA) of a breast mass.  They describe\n",
      "characteristics of the cell nuclei present in the image.\n",
      "\n",
      "Separating plane described above was obtained using\n",
      "Multisurface Method-Tree (MSM-T) [K. P. Bennett, \"Decision Tree\n",
      "Construction Via Linear Programming.\" Proceedings of the 4th\n",
      "Midwest Artificial Intelligence and Cognitive Science Society,\n",
      "pp. 97-101, 1992], a classification method which uses linear\n",
      "programming to construct a decision tree.  Relevant features\n",
      "were selected using an exhaustive search in the space of 1-4\n",
      "features and 1-3 separating planes.\n",
      "\n",
      "The actual linear program used to obtain the separating plane\n",
      "in the 3-dimensional space is that described in:\n",
      "[K. P. Bennett and O. L. Mangasarian: \"Robust Linear\n",
      "Programming Discrimination of Two Linearly Inseparable Sets\",\n",
      "Optimization Methods and Software 1, 1992, 23-34].\n",
      "\n",
      "This database is also available through the UW CS ftp server:\n",
      "\n",
      "ftp ftp.cs.wisc.edu\n",
      "cd math-prog/cpo-dataset/machine-learn/WDBC/\n",
      "\n",
      "References\n",
      "----------\n",
      "   - W.N. Street, W.H. Wolberg and O.L. Mangasarian. Nuclear feature extraction \n",
      "     for breast tumor diagnosis. IS&T/SPIE 1993 International Symposium on \n",
      "     Electronic Imaging: Science and Technology, volume 1905, pages 861-870,\n",
      "     San Jose, CA, 1993.\n",
      "   - O.L. Mangasarian, W.N. Street and W.H. Wolberg. Breast cancer diagnosis and \n",
      "     prognosis via linear programming. Operations Research, 43(4), pages 570-577, \n",
      "     July-August 1995.\n",
      "   - W.H. Wolberg, W.N. Street, and O.L. Mangasarian. Machine learning techniques\n",
      "     to diagnose breast cancer from fine-needle aspirates. Cancer Letters 77 (1994) \n",
      "     163-171.\n",
      "\n"
     ]
    }
   ],
   "source": [
    "print(cancer['DESCR'])"
   ]
  },
  {
   "cell_type": "markdown",
   "metadata": {},
   "source": [
    "One can also use the shape property to retrieve the size of a 2D matrix which serves well here to find the size of the matrix of the feature vectors."
   ]
  },
  {
   "cell_type": "code",
   "execution_count": 15,
   "metadata": {},
   "outputs": [
    {
     "data": {
      "text/plain": [
       "(569, 30)"
      ]
     },
     "execution_count": 15,
     "metadata": {},
     "output_type": "execute_result"
    }
   ],
   "source": [
    "cancer['data'].shape"
   ]
  },
  {
   "cell_type": "markdown",
   "metadata": {},
   "source": [
    "Let's now split our data of 569 examples into training set and test set. We'll use our training set to train our machine learning model and test set to test the accuracy of our model."
   ]
  },
  {
   "cell_type": "code",
   "execution_count": 16,
   "metadata": {
    "collapsed": true
   },
   "outputs": [],
   "source": [
    "from sklearn.model_selection import train_test_split"
   ]
  },
  {
   "cell_type": "code",
   "execution_count": 17,
   "metadata": {
    "collapsed": true
   },
   "outputs": [],
   "source": [
    "X = cancer['data']\n",
    "y = cancer['target']"
   ]
  },
  {
   "cell_type": "code",
   "execution_count": 18,
   "metadata": {
    "collapsed": true
   },
   "outputs": [],
   "source": [
    "X_train, X_test, y_train, y_test = train_test_split(X, y)"
   ]
  },
  {
   "cell_type": "code",
   "execution_count": 19,
   "metadata": {},
   "outputs": [
    {
     "name": "stdout",
     "output_type": "stream",
     "text": [
      "(426, 30) (143, 30) (426,) (143,)\n"
     ]
    }
   ],
   "source": [
    "print(X_train.shape, X_test.shape, y_train.shape, y_test.shape)"
   ]
  },
  {
   "cell_type": "markdown",
   "metadata": {},
   "source": [
    "We observe that the ratio in which the dataset is divided is 3:1."
   ]
  },
  {
   "cell_type": "markdown",
   "metadata": {},
   "source": [
    "Before applying any machine learning model, we need to do something called 'Data Preprocessing'."
   ]
  },
  {
   "cell_type": "code",
   "execution_count": 20,
   "metadata": {
    "collapsed": true
   },
   "outputs": [],
   "source": [
    "from sklearn.preprocessing import StandardScaler"
   ]
  },
  {
   "cell_type": "code",
   "execution_count": 21,
   "metadata": {},
   "outputs": [
    {
     "data": {
      "text/plain": [
       "StandardScaler(copy=True, with_mean=True, with_std=True)"
      ]
     },
     "execution_count": 21,
     "metadata": {},
     "output_type": "execute_result"
    }
   ],
   "source": [
    "scaler = StandardScaler()\n",
    "scaler.fit(X_train)"
   ]
  },
  {
   "cell_type": "code",
   "execution_count": 22,
   "metadata": {
    "collapsed": true
   },
   "outputs": [],
   "source": [
    "X_train = scaler.transform(X_train)\n",
    "X_test = scaler.transform(X_test)"
   ]
  },
  {
   "cell_type": "markdown",
   "metadata": {},
   "source": [
    "The preprocessing is done with the training set and is applied to both training and test set."
   ]
  },
  {
   "cell_type": "markdown",
   "metadata": {},
   "source": [
    "Now is the time to train our model. Let's select a neural network model to train."
   ]
  },
  {
   "cell_type": "code",
   "execution_count": 23,
   "metadata": {
    "collapsed": true
   },
   "outputs": [],
   "source": [
    "from sklearn.neural_network import MLPClassifier"
   ]
  },
  {
   "cell_type": "markdown",
   "metadata": {},
   "source": [
    "MLP stands for Multi-Layer Perceptron which indeed means a neural network with more than one layers."
   ]
  },
  {
   "cell_type": "markdown",
   "metadata": {},
   "source": [
    "Let's now create an instance of the MLPC classifier. Remember that we can pass many arguments to the cnstructor but one of the most important is the hidden_layer_sizes. A tuple is passed to hidden_layer_sizes which specifies the number of nodes at each hidden layer."
   ]
  },
  {
   "cell_type": "code",
   "execution_count": 24,
   "metadata": {
    "collapsed": true
   },
   "outputs": [],
   "source": [
    "mlp = MLPClassifier(hidden_layer_sizes = (30, 30, 30))"
   ]
  },
  {
   "cell_type": "code",
   "execution_count": 26,
   "metadata": {},
   "outputs": [
    {
     "data": {
      "text/plain": [
       "MLPClassifier(activation='relu', alpha=0.0001, batch_size='auto', beta_1=0.9,\n",
       "       beta_2=0.999, early_stopping=False, epsilon=1e-08,\n",
       "       hidden_layer_sizes=(30, 30, 30), learning_rate='constant',\n",
       "       learning_rate_init=0.001, max_iter=200, momentum=0.9,\n",
       "       nesterovs_momentum=True, power_t=0.5, random_state=None,\n",
       "       shuffle=True, solver='adam', tol=0.0001, validation_fraction=0.1,\n",
       "       verbose=False, warm_start=False)"
      ]
     },
     "execution_count": 26,
     "metadata": {},
     "output_type": "execute_result"
    }
   ],
   "source": [
    "mlp.fit(X_train, y_train)"
   ]
  },
  {
   "cell_type": "markdown",
   "metadata": {},
   "source": [
    "We observe that ReLU is used as an activation function. Now that we have trained our model, we can predict the output for the samples in our test set."
   ]
  },
  {
   "cell_type": "code",
   "execution_count": 30,
   "metadata": {
    "collapsed": true
   },
   "outputs": [],
   "source": [
    "pred1 = mlp.predict(X_train)\n",
    "pred2 = mlp.predict(X_test)"
   ]
  },
  {
   "cell_type": "markdown",
   "metadata": {},
   "source": [
    "Now let's look for the accuracy score, classification report and confusion matrix."
   ]
  },
  {
   "cell_type": "code",
   "execution_count": 28,
   "metadata": {
    "collapsed": true
   },
   "outputs": [],
   "source": [
    "from sklearn.metrics import accuracy_score, classification_report, confusion_matrix"
   ]
  },
  {
   "cell_type": "markdown",
   "metadata": {},
   "source": [
    "Let's first check the accuracy on the training set and test set."
   ]
  },
  {
   "cell_type": "code",
   "execution_count": 32,
   "metadata": {},
   "outputs": [
    {
     "name": "stdout",
     "output_type": "stream",
     "text": [
      "100.0 95.8041958042\n"
     ]
    }
   ],
   "source": [
    "print(accuracy_score(y_train, pred1)*100, accuracy_score(y_test, pred2)*100)"
   ]
  },
  {
   "cell_type": "markdown",
   "metadata": {},
   "source": [
    "Now let's check the confusion matrix of the test set.<br/>\n",
    "But first let's see what the confusion matrix is.\n",
    "![alt text](confusion_matrix.png \"Confusion Matrix\")"
   ]
  },
  {
   "cell_type": "code",
   "execution_count": 33,
   "metadata": {},
   "outputs": [
    {
     "name": "stdout",
     "output_type": "stream",
     "text": [
      "[[45  3]\n",
      " [ 3 92]]\n"
     ]
    }
   ],
   "source": [
    "print(confusion_matrix(y_test, pred2))"
   ]
  },
  {
   "cell_type": "markdown",
   "metadata": {},
   "source": [
    "We can also look at the classification report to find the values of precision, recall and F1-score.<br/>\n",
    "But first let's find out what actually precision, recall and F1-score are.\n",
    "![alt text](classification_report.jpg \"Classification Report\")\n"
   ]
  },
  {
   "cell_type": "code",
   "execution_count": 34,
   "metadata": {},
   "outputs": [
    {
     "name": "stdout",
     "output_type": "stream",
     "text": [
      "             precision    recall  f1-score   support\n",
      "\n",
      "          0       0.94      0.94      0.94        48\n",
      "          1       0.97      0.97      0.97        95\n",
      "\n",
      "avg / total       0.96      0.96      0.96       143\n",
      "\n"
     ]
    }
   ],
   "source": [
    "print(classification_report(y_test, pred2))"
   ]
  },
  {
   "cell_type": "markdown",
   "metadata": {},
   "source": [
    "As you may guess, support tells the number of test examples that actually lie in a particular class. For example in the above report, 48 training examples are actually labelled 0 and 95 are actually labelled 1."
   ]
  },
  {
   "cell_type": "markdown",
   "metadata": {},
   "source": [
    "One can also extract the MLP <font color = \"red\"><b>weights and biases</b></font> in each layer after training the model."
   ]
  },
  {
   "cell_type": "code",
   "execution_count": 35,
   "metadata": {},
   "outputs": [
    {
     "name": "stdout",
     "output_type": "stream",
     "text": [
      "[array([[ -6.58254569e-03,   9.03369890e-02,   2.51267833e-01,\n",
      "          2.51367635e-01,   1.29824374e-01,   6.01760762e-02,\n",
      "          2.52800240e-01,   1.75317676e-01,   1.99603296e-01,\n",
      "          8.43400583e-02,   3.93563896e-01,  -6.57005889e-02,\n",
      "          2.31228850e-01,  -6.14590128e-02,   3.09276653e-01,\n",
      "         -1.59529666e-01,   2.28924744e-01,   9.17302796e-03,\n",
      "         -9.52902531e-02,   1.58182750e-01,  -2.18350716e-01,\n",
      "          6.23746705e-02,   1.23913472e-01,   3.11325302e-01,\n",
      "         -1.75043088e-01,  -2.66849181e-01,   1.24360935e-01,\n",
      "         -5.49822469e-02,   2.46902524e-01,  -3.19116274e-01],\n",
      "       [  9.56685903e-02,  -3.47361302e-01,   1.45927042e-02,\n",
      "         -1.54412407e-01,   1.26948821e-01,  -2.64834003e-01,\n",
      "          2.73378421e-03,  -1.45353570e-01,   1.37409465e-01,\n",
      "         -1.68246156e-01,   1.97219144e-01,   3.10334746e-01,\n",
      "         -1.43410198e-01,   3.78379912e-02,  -1.46946384e-01,\n",
      "         -9.47139814e-02,   2.54701834e-02,  -2.76062622e-01,\n",
      "          3.03273900e-01,   8.24879465e-03,  -3.04180964e-01,\n",
      "         -2.45566289e-01,  -7.67211077e-02,   2.65518640e-01,\n",
      "         -7.44311489e-02,   3.21858655e-01,  -2.71449416e-01,\n",
      "          6.87456896e-02,   1.07578420e-01,   1.43623066e-01],\n",
      "       [ -3.43437953e-01,  -3.28470452e-01,  -1.84633463e-01,\n",
      "         -1.91640106e-01,   3.25094267e-01,   1.52846681e-01,\n",
      "          2.20453095e-01,   2.30833892e-01,  -4.14697758e-01,\n",
      "          2.44345209e-02,   3.14839972e-01,  -3.05900612e-01,\n",
      "         -6.40585736e-03,  -5.40614664e-02,   1.74407812e-01,\n",
      "          1.25149768e-01,  -1.96052078e-01,   1.24651822e-01,\n",
      "          2.48631255e-01,   1.91529376e-01,   3.18848402e-01,\n",
      "         -3.27488083e-04,  -1.39659399e-01,   2.59054384e-01,\n",
      "         -1.33477557e-01,   1.59631006e-01,   1.72338909e-02,\n",
      "          1.42625391e-01,   2.31104212e-01,  -3.26935607e-01],\n",
      "       [ -1.38540930e-01,  -5.29021336e-02,   1.10837620e-02,\n",
      "          6.85350907e-02,  -3.89526324e-02,   2.66352936e-01,\n",
      "         -2.54326141e-01,   6.49118228e-03,  -1.14494923e-01,\n",
      "          2.87429245e-01,   1.85855847e-01,  -2.52657373e-01,\n",
      "         -5.09845439e-02,   9.59028627e-02,   1.00382255e-01,\n",
      "         -2.01146782e-02,  -3.48365861e-02,  -1.34675980e-01,\n",
      "          2.82854616e-01,  -6.44780123e-02,  -1.14022306e-01,\n",
      "         -1.96397734e-01,  -1.53244492e-01,  -1.75159692e-01,\n",
      "         -2.77424499e-02,   2.02080121e-01,  -1.29867163e-01,\n",
      "          6.23516828e-02,   1.20969282e-01,  -3.02222581e-01],\n",
      "       [ -1.13302262e-01,   6.89120638e-02,  -1.00139590e-02,\n",
      "          5.81057699e-02,   1.52467966e-01,   1.37289641e-01,\n",
      "         -2.13683295e-01,  -2.70130481e-01,   9.21473556e-02,\n",
      "          3.07672361e-02,  -3.29283386e-01,   2.49114246e-01,\n",
      "          7.85384310e-03,   3.47421193e-01,   2.23284836e-01,\n",
      "          8.20424973e-02,  -2.27054459e-01,  -2.37642711e-01,\n",
      "          2.33189250e-01,   2.27982557e-01,  -1.31540262e-01,\n",
      "          2.88062906e-02,  -1.07528078e-01,   1.23859423e-01,\n",
      "          2.29599893e-01,  -1.07632351e-01,   2.35545609e-02,\n",
      "          2.56708351e-01,  -2.07077815e-01,  -2.81834170e-01],\n",
      "       [ -1.45074181e-01,  -6.42923898e-02,  -3.79152056e-02,\n",
      "          2.77860365e-01,  -1.24208738e-01,   5.61880907e-02,\n",
      "         -8.44880729e-02,  -3.99068000e-02,  -1.74253831e-01,\n",
      "          2.32408739e-01,  -6.22579522e-02,  -6.99799233e-02,\n",
      "         -2.32445031e-01,   3.90718358e-02,   2.82347515e-01,\n",
      "         -2.57649602e-01,   3.18752848e-02,  -5.80995590e-02,\n",
      "          1.25812759e-01,   3.20462085e-01,  -7.80042435e-02,\n",
      "          9.69673740e-02,   1.16041294e-01,   3.29746043e-01,\n",
      "         -1.14879402e-01,  -2.68485986e-01,   1.27250548e-01,\n",
      "          1.32044068e-01,   1.11549607e-01,  -1.63987206e-01],\n",
      "       [ -1.40943136e-01,  -2.36890144e-01,  -8.36365506e-02,\n",
      "          2.31305878e-01,   2.72949922e-01,  -4.22602453e-02,\n",
      "          1.87255950e-01,   8.14697177e-02,   9.54103218e-02,\n",
      "          5.14741336e-03,  -7.29972475e-02,  -2.56598271e-01,\n",
      "          2.36365259e-01,  -2.44133727e-01,   3.46361329e-01,\n",
      "         -3.41623027e-01,  -2.18810648e-01,  -1.53078136e-01,\n",
      "          1.32311904e-01,  -1.42415961e-01,  -2.71763663e-01,\n",
      "         -6.11922276e-02,   1.06214465e-01,   2.88485682e-01,\n",
      "          2.17748354e-01,  -2.26758337e-01,   1.50502779e-01,\n",
      "          1.50277455e-01,  -5.43578037e-02,   2.40980290e-01],\n",
      "       [ -3.95967000e-02,   1.28851982e-01,  -1.73214067e-01,\n",
      "          1.44381102e-01,   3.89557078e-02,  -1.26913083e-01,\n",
      "         -2.35721575e-01,   2.46894563e-01,  -2.65999123e-01,\n",
      "         -2.79455333e-01,   2.74367123e-01,   1.55629969e-01,\n",
      "          1.67368773e-01,  -2.78695325e-01,  -4.27199135e-02,\n",
      "         -9.02305723e-02,   1.32936718e-01,  -2.76223008e-01,\n",
      "         -5.93325765e-02,  -2.15254277e-01,   4.92242125e-02,\n",
      "         -1.28072725e-01,   1.06042986e-01,   2.43826618e-01,\n",
      "         -1.31145138e-01,   2.75262862e-01,  -9.07146656e-02,\n",
      "          1.26078972e-01,   2.63948854e-01,  -7.10109203e-02],\n",
      "       [ -9.13597224e-02,   1.58781652e-01,  -8.19722654e-02,\n",
      "          2.29664543e-01,  -1.48959649e-01,  -1.75461488e-01,\n",
      "          2.15383874e-01,   2.03247956e-01,   8.59031396e-02,\n",
      "          1.96331384e-01,  -3.30362578e-01,   1.23417851e-01,\n",
      "         -2.47695891e-01,  -2.34567912e-02,   7.46260346e-02,\n",
      "         -2.68758809e-01,  -1.42855872e-01,   1.99805481e-01,\n",
      "          6.85465545e-03,  -2.23256104e-01,   2.25248166e-01,\n",
      "          6.00604479e-02,   2.87225980e-01,   3.02163243e-01,\n",
      "         -1.01481257e-01,  -9.82717876e-02,   2.18278832e-01,\n",
      "          2.10936813e-01,  -1.68570448e-01,  -1.08073087e-01],\n",
      "       [ -6.24886901e-02,  -1.71284936e-01,  -1.40799162e-01,\n",
      "          1.79376771e-01,  -3.80514316e-01,  -6.07100633e-02,\n",
      "         -1.79688886e-01,   5.91781730e-02,  -6.86805049e-02,\n",
      "          1.39441980e-01,  -3.86141851e-01,   2.51805200e-01,\n",
      "         -7.33133225e-02,   1.00930829e-01,  -1.75058566e-01,\n",
      "          4.84833129e-02,   2.31680454e-01,  -8.29301400e-02,\n",
      "         -1.67174994e-01,   1.28255830e-01,   3.27062322e-01,\n",
      "          2.35872499e-01,  -4.91551430e-03,  -1.17445003e-01,\n",
      "          2.63103896e-01,   1.45960831e-01,   1.11214647e-01,\n",
      "          1.40212444e-01,  -7.73904089e-02,  -6.94489062e-02],\n",
      "       [ -3.35399663e-01,  -2.23022585e-01,  -7.75370789e-02,\n",
      "         -3.38333401e-01,  -9.86020656e-03,   1.31093991e-01,\n",
      "         -3.31932758e-01,  -1.38309037e-01,  -4.20243116e-01,\n",
      "         -4.26797008e-02,   4.11828484e-03,  -3.56783456e-01,\n",
      "         -1.15336298e-02,   9.50637920e-02,   5.31597567e-02,\n",
      "         -1.92220183e-01,   2.37628106e-02,  -3.48120422e-01,\n",
      "          7.17489512e-03,   1.78996791e-01,  -2.01921905e-01,\n",
      "         -2.42424673e-01,   3.24558777e-01,   1.00833317e-01,\n",
      "         -9.11474541e-02,   6.96371276e-03,  -1.76095087e-01,\n",
      "          3.01064979e-01,  -1.42418722e-02,  -2.07007803e-01],\n",
      "       [ -3.39321806e-01,  -3.93972886e-01,  -2.29725855e-01,\n",
      "          5.32797424e-02,  -1.31093486e-01,   2.46224461e-01,\n",
      "         -1.87238356e-01,   3.66254942e-02,   3.50926982e-02,\n",
      "          7.38178669e-02,  -1.31580554e-01,   2.16994075e-01,\n",
      "          2.49498686e-01,   2.03686929e-01,   4.23339930e-02,\n",
      "          1.51432330e-01,   1.32646256e-02,   2.47981755e-01,\n",
      "         -1.43677690e-01,   1.56000465e-01,  -2.76912085e-03,\n",
      "         -1.07878648e-01,  -6.47674953e-02,   2.55958183e-02,\n",
      "         -2.33395909e-01,  -3.82750557e-02,   1.61001099e-01,\n",
      "         -2.13284793e-01,   8.33950611e-02,   1.72221867e-01],\n",
      "       [  8.26234036e-02,  -3.93212029e-02,  -3.03778528e-01,\n",
      "         -2.58199416e-01,   4.36700958e-02,   1.87648411e-01,\n",
      "         -1.89662973e-01,   6.11571755e-02,  -1.20340407e-01,\n",
      "         -6.44572023e-02,   3.83770146e-01,  -1.07718981e-01,\n",
      "          2.74538866e-01,  -2.37012083e-01,   3.02223655e-01,\n",
      "         -1.88286932e-01,  -2.97748401e-01,  -1.51291719e-01,\n",
      "         -3.07543368e-01,  -3.71858464e-02,   1.24272546e-01,\n",
      "         -1.97608543e-01,  -5.55766468e-02,  -6.01774223e-02,\n",
      "          3.13535742e-01,  -3.01041063e-01,  -2.79021959e-01,\n",
      "         -7.10271027e-02,  -8.21327393e-02,   8.28604871e-02],\n",
      "       [ -8.60096606e-02,  -1.09102865e-01,   1.51671941e-01,\n",
      "         -1.29840292e-01,   3.44633224e-01,  -1.02021817e-02,\n",
      "         -3.26831253e-01,  -1.88150412e-01,   1.75012578e-01,\n",
      "         -1.48260305e-02,   1.33764152e-01,   1.30314311e-01,\n",
      "          3.49642994e-01,  -1.44543109e-01,  -1.12040565e-01,\n",
      "          9.81862061e-02,  -2.22543439e-01,  -1.33295198e-01,\n",
      "          8.27854003e-02,  -1.33630421e-01,  -4.48449995e-02,\n",
      "          1.61067086e-01,  -9.50270255e-02,   3.79917595e-01,\n",
      "         -1.96249582e-01,   9.18027975e-02,  -2.85935945e-01,\n",
      "          9.58585175e-02,   1.12770618e-01,  -2.58525968e-01],\n",
      "       [ -2.37662854e-01,   2.65135534e-01,  -1.04981697e-01,\n",
      "         -3.32282993e-01,   4.90470718e-02,   2.51349434e-01,\n",
      "          2.99196435e-01,  -2.57251882e-01,   2.14589679e-01,\n",
      "         -2.25319751e-01,  -4.39796220e-02,  -3.80434577e-01,\n",
      "          2.18361871e-01,   3.08957528e-01,   2.88250734e-01,\n",
      "          3.19530888e-01,  -1.12304736e-01,  -2.51148660e-01,\n",
      "          7.38355764e-02,   2.80279188e-01,   3.09721112e-03,\n",
      "         -1.62852733e-01,  -1.59200352e-01,  -2.04893107e-01,\n",
      "          2.66768916e-01,  -1.70158139e-01,  -8.45358892e-02,\n",
      "         -2.49336089e-01,   2.38824667e-01,  -1.43094366e-01],\n",
      "       [  4.03201182e-01,  -7.02438416e-02,   2.41453383e-01,\n",
      "          3.43125243e-01,  -6.39184482e-02,   6.42422271e-02,\n",
      "         -1.11046612e-01,   1.57386288e-01,   1.72679327e-01,\n",
      "          1.56726911e-01,   1.30722890e-01,   3.12025725e-02,\n",
      "         -2.01839148e-01,   9.57205352e-02,   2.17965708e-01,\n",
      "         -2.51384695e-01,  -1.24567765e-01,  -2.51994225e-01,\n",
      "         -4.31251797e-02,   3.11603033e-01,  -2.43801019e-02,\n",
      "         -5.78395384e-02,   1.86510411e-01,   2.46705646e-01,\n",
      "          5.02000420e-02,  -3.87006605e-01,   3.59228515e-01,\n",
      "          4.09883853e-02,  -2.67338313e-01,   1.40813879e-01],\n",
      "       [ -2.59817502e-01,  -2.35251953e-01,  -2.00649441e-01,\n",
      "         -2.37816757e-01,  -6.94181908e-02,   5.57853283e-02,\n",
      "          2.37758461e-01,  -2.46607925e-01,   2.96402447e-01,\n",
      "         -8.27272415e-02,   2.56566788e-01,  -2.86296166e-01,\n",
      "          1.39836696e-01,  -2.69166339e-01,   2.54630945e-01,\n",
      "          3.04277633e-01,  -1.92797292e-01,  -1.19265287e-01,\n",
      "          1.43149549e-01,   1.35443768e-01,   5.54633757e-02,\n",
      "          2.19136296e-01,   2.69290593e-01,  -1.21571124e-04,\n",
      "         -1.37918793e-01,  -2.50792854e-01,   3.47670690e-02,\n",
      "          2.49853586e-01,  -1.02499137e-01,  -9.38461202e-02],\n",
      "       [ -2.28841903e-01,  -1.38540628e-01,  -5.59953700e-02,\n",
      "          2.05185391e-02,   2.03872823e-01,  -1.87906343e-01,\n",
      "          2.60854714e-01,  -5.40215325e-02,  -2.01509221e-01,\n",
      "          2.85230808e-01,   1.90326493e-01,  -1.98481734e-02,\n",
      "          5.12544025e-02,   2.01344126e-02,  -1.71497433e-01,\n",
      "          1.60117288e-01,   5.72246736e-03,   1.33265546e-01,\n",
      "         -7.00926932e-02,  -7.98242185e-02,  -1.77264970e-01,\n",
      "         -1.21464425e-01,   1.58741026e-01,  -1.04827411e-01,\n",
      "         -1.06416841e-01,   9.09483859e-02,  -8.63204358e-02,\n",
      "         -2.22443134e-02,  -1.83506214e-01,   3.68641254e-02],\n",
      "       [  1.72667618e-01,   3.12757559e-01,   3.95815745e-02,\n",
      "         -2.44996676e-01,  -3.92228489e-01,   7.20479798e-02,\n",
      "          2.69190080e-01,  -1.84589336e-01,  -1.53511749e-01,\n",
      "         -1.75711679e-01,   2.07853789e-02,  -1.93532874e-01,\n",
      "          2.15342147e-01,  -1.32930167e-02,   1.53009878e-01,\n",
      "          1.30614904e-01,   1.89593067e-01,   2.51081702e-01,\n",
      "          9.02450662e-02,   3.06083063e-01,  -7.06828481e-02,\n",
      "         -7.45673755e-02,   1.13988977e-01,   1.94487576e-01,\n",
      "          1.23270790e-01,  -2.77945923e-01,   1.89228817e-02,\n",
      "         -1.38432595e-01,  -3.21752342e-01,   3.11343669e-01],\n",
      "       [  3.90894143e-01,   3.46961562e-01,   2.43492808e-01,\n",
      "          2.11159772e-01,  -4.44768694e-01,  -4.35528961e-02,\n",
      "          9.74746934e-02,  -1.50268819e-01,   6.87753717e-02,\n",
      "          2.72865599e-01,  -3.69759649e-01,  -2.47722430e-01,\n",
      "         -1.91595647e-01,   2.95468698e-01,  -3.33133144e-01,\n",
      "          2.46188291e-02,  -2.13999665e-01,   4.37990373e-02,\n",
      "         -1.03351451e-01,   3.54022750e-01,   3.69335492e-01,\n",
      "         -2.11124998e-01,  -6.84480567e-02,   1.15784843e-01,\n",
      "         -2.05528545e-01,  -6.87852799e-02,   1.31004960e-01,\n",
      "         -3.08630637e-01,  -3.68508391e-01,   2.28215844e-01],\n",
      "       [  7.67428270e-02,  -9.55255507e-02,   3.05407089e-02,\n",
      "          3.21724787e-01,  -7.14929389e-02,   1.58962487e-01,\n",
      "          1.74181612e-01,  -4.12970070e-01,  -4.26590986e-01,\n",
      "         -2.18452948e-01,   3.00832648e-01,   1.27405445e-01,\n",
      "         -2.47857662e-01,   2.29957877e-01,   3.24257884e-01,\n",
      "          1.31221928e-01,  -3.52426666e-01,  -2.19103560e-01,\n",
      "          3.82877431e-01,  -1.91293837e-01,   1.42556612e-01,\n",
      "          3.22922943e-01,  -2.83736968e-01,   2.91254182e-01,\n",
      "         -4.63961152e-04,   1.41278953e-01,  -4.32242590e-01,\n",
      "         -1.54536657e-03,   2.28279372e-01,  -1.52282479e-01],\n",
      "       [ -2.36490715e-01,   1.13493419e-01,  -2.65598176e-01,\n",
      "         -1.25020881e-01,   2.48221785e-01,   3.33626701e-01,\n",
      "         -2.16698003e-01,  -2.88378991e-01,  -7.68888806e-02,\n",
      "         -2.30165331e-01,  -1.17215070e-01,  -3.61571956e-02,\n",
      "          6.44230485e-02,  -4.71293661e-01,   3.48524578e-01,\n",
      "          1.43881433e-01,  -1.06964559e-01,  -1.50708314e-01,\n",
      "          2.67216956e-01,  -1.65644832e-01,  -9.92487213e-03,\n",
      "          2.36827091e-01,  -1.02952154e-01,  -2.91234708e-02,\n",
      "         -2.01471133e-01,  -1.05037144e-01,  -1.30802539e-01,\n",
      "          2.08511514e-01,  -4.38306705e-02,  -6.89249490e-02],\n",
      "       [ -7.90684891e-02,   2.66581176e-03,   1.11194772e-01,\n",
      "          3.51999006e-01,  -3.22818251e-02,  -9.16879125e-02,\n",
      "         -7.37204991e-02,  -3.47288851e-01,  -3.20603943e-01,\n",
      "         -3.01926485e-01,   1.24474412e-01,   1.86528141e-01,\n",
      "          3.08697322e-01,  -1.69910542e-01,  -3.25948854e-04,\n",
      "         -1.92187282e-01,  -2.68377820e-01,  -3.81432247e-01,\n",
      "          1.54939637e-01,  -2.55527213e-01,  -2.93759710e-01,\n",
      "          2.41324732e-01,  -1.60726121e-01,   9.89675468e-02,\n",
      "         -5.86890006e-02,  -1.89461433e-01,  -9.11511342e-02,\n",
      "          3.54573121e-01,  -1.49553991e-01,  -8.93713224e-02],\n",
      "       [  3.01895230e-02,  -4.03948555e-01,  -2.01534479e-01,\n",
      "         -5.52841995e-02,   2.27543272e-01,  -2.53983316e-01,\n",
      "         -6.47200785e-02,  -3.40150868e-01,  -3.41691849e-01,\n",
      "         -3.70300785e-03,   1.32698140e-01,  -1.35085241e-01,\n",
      "         -2.50734479e-01,   1.96713256e-01,   3.70016909e-01,\n",
      "          6.05643557e-02,  -9.70846786e-02,  -1.97012490e-02,\n",
      "         -4.30222126e-02,  -7.22651171e-02,   9.54080297e-02,\n",
      "          4.11290011e-01,  -1.08992139e-01,  -1.32083330e-03,\n",
      "          1.10464319e-01,  -1.47709589e-01,  -3.62723155e-01,\n",
      "         -5.30740331e-02,  -1.90497041e-01,   2.00960162e-01],\n",
      "       [ -1.49210659e-01,   1.89969219e-01,   2.58995850e-01,\n",
      "         -3.42207514e-01,   3.53125412e-01,  -8.24455668e-02,\n",
      "          5.97455925e-02,  -7.62455890e-02,   8.26006700e-02,\n",
      "         -3.06154415e-01,   3.20313282e-01,  -4.16388466e-01,\n",
      "         -2.30846730e-01,  -5.87100957e-02,   1.82663541e-01,\n",
      "         -4.60498884e-02,   8.00359032e-05,   4.96019302e-02,\n",
      "          2.78005611e-01,  -3.10843687e-02,  -3.78897522e-01,\n",
      "         -4.13149494e-02,   2.21436288e-01,  -5.21162642e-02,\n",
      "         -1.78957430e-01,   1.34902086e-01,  -6.21032791e-02,\n",
      "          2.90565225e-01,   4.26092091e-01,  -4.25345548e-01],\n",
      "       [  1.31557070e-02,  -9.05365179e-02,   2.98157921e-01,\n",
      "          3.46631524e-01,   1.36934647e-01,   3.20578012e-01,\n",
      "         -3.01170377e-01,  -3.36153906e-01,   2.43300705e-01,\n",
      "         -1.08487643e-01,  -4.09223104e-01,   6.19940206e-02,\n",
      "          2.32833182e-01,   5.20959695e-02,   9.58471484e-02,\n",
      "          9.07142425e-03,  -1.59976019e-01,  -1.34459377e-01,\n",
      "         -2.40653228e-01,   2.94577050e-01,   3.30908874e-01,\n",
      "         -2.75081158e-02,   7.54046573e-02,  -2.08798493e-01,\n",
      "         -4.49014277e-02,  -1.49856503e-01,   2.37697902e-01,\n",
      "          2.73444098e-01,  -2.42128951e-01,  -1.37094314e-02],\n",
      "       [ -1.82887986e-01,  -2.10764814e-02,  -1.49263142e-01,\n",
      "          9.76961145e-02,   3.81578197e-01,   1.83292249e-01,\n",
      "         -1.06008768e-02,  -3.16578331e-01,   3.46129800e-03,\n",
      "         -1.60098340e-01,   3.04871552e-01,  -5.74469049e-02,\n",
      "          5.13064559e-02,   1.66871530e-01,   1.82286751e-01,\n",
      "          2.16266481e-01,   1.35346862e-01,  -2.17240126e-01,\n",
      "         -1.26585781e-01,  -1.64235915e-01,   5.15677919e-02,\n",
      "          2.40016884e-02,  -1.66475435e-01,   8.71117897e-02,\n",
      "         -5.28630458e-02,   1.13427008e-01,   9.99071792e-02,\n",
      "          1.54320291e-02,  -1.12421379e-01,   9.15716262e-02],\n",
      "       [ -9.95984425e-02,  -2.44230242e-01,  -7.71584688e-02,\n",
      "          1.24394264e-01,  -8.67840476e-02,   2.45928833e-01,\n",
      "         -2.40406918e-02,   1.74232759e-01,   1.66913936e-03,\n",
      "          2.31481214e-01,   3.54613842e-02,   2.59156866e-01,\n",
      "          3.17867745e-01,   9.97807478e-02,   3.48833525e-02,\n",
      "          2.03105415e-01,   1.40582053e-02,  -2.50410276e-01,\n",
      "         -2.26917800e-01,  -2.63045437e-01,  -2.39200215e-01,\n",
      "          1.22203683e-01,  -1.12799159e-01,   1.81265573e-01,\n",
      "         -1.80317342e-01,   2.91624052e-01,  -1.17560392e-01,\n",
      "          2.53587896e-01,  -1.31464185e-01,  -3.25643129e-01],\n",
      "       [  9.29656244e-02,  -9.73187979e-02,   4.93198918e-02,\n",
      "         -3.41184141e-01,   1.63792684e-01,   3.61862604e-01,\n",
      "         -2.11463049e-01,  -5.26361613e-03,  -2.97497532e-01,\n",
      "          5.93405759e-02,   1.24657387e-01,   8.67934555e-02,\n",
      "          3.08286918e-01,  -3.97128025e-02,   6.94576046e-02,\n",
      "          2.26780905e-01,  -1.96720711e-01,  -3.01658767e-01,\n",
      "          4.22528702e-01,  -1.95750548e-01,   3.88403633e-03,\n",
      "          2.52609224e-01,   8.04598961e-02,  -1.78685145e-01,\n",
      "         -1.94548890e-01,   1.38573824e-01,  -1.36396082e-01,\n",
      "         -1.49563760e-01,  -4.36670234e-02,  -2.49264644e-01],\n",
      "       [  1.83725398e-01,  -6.13396730e-03,   2.13740042e-01,\n",
      "         -2.40493021e-02,   1.57874240e-01,   1.87727140e-03,\n",
      "          1.43745643e-01,  -3.53004809e-01,  -1.96564202e-01,\n",
      "         -3.01007201e-01,  -4.96334720e-02,  -3.72739551e-01,\n",
      "         -3.62656554e-01,  -1.92209387e-01,   2.74867175e-01,\n",
      "          2.66024618e-01,   1.59466530e-02,  -2.51410303e-01,\n",
      "         -7.50147726e-02,   7.06701161e-02,  -1.07701383e-01,\n",
      "         -2.51788627e-01,   8.97751140e-02,  -2.12209447e-01,\n",
      "         -7.54952787e-02,  -1.97813864e-01,  -3.56321462e-01,\n",
      "          2.16313245e-01,   2.85246399e-01,   1.86998874e-01]]), array([[-0.24486035, -0.27735874,  0.21703798,  0.41117521, -0.24061749,\n",
      "         0.00342928,  0.11326193, -0.15091965, -0.18039896, -0.15674605,\n",
      "         0.04391274,  0.16157612, -0.22603871, -0.07409273, -0.19257441,\n",
      "        -0.09216273, -0.14824355, -0.26006401,  0.03394502,  0.20971097,\n",
      "         0.07548017,  0.02068191, -0.15005327, -0.32165466,  0.11124148,\n",
      "         0.01770073,  0.17322396,  0.4095968 ,  0.20101978, -0.22308491],\n",
      "       [ 0.17385419, -0.08957846,  0.08472156,  0.07329539,  0.22497386,\n",
      "        -0.19235246,  0.06302477, -0.07319729,  0.27659018, -0.14131416,\n",
      "        -0.04194531, -0.27854491,  0.26022705, -0.08056764, -0.15351546,\n",
      "         0.38683001,  0.14671004, -0.08873933,  0.2431447 , -0.17359826,\n",
      "         0.18995634, -0.1888526 ,  0.0341764 , -0.32630485, -0.13112854,\n",
      "        -0.01527142, -0.33692913,  0.27610103, -0.11035112, -0.2931917 ],\n",
      "       [ 0.11765418,  0.30881365, -0.01166069,  0.09289243, -0.04050452,\n",
      "         0.05808784, -0.19101602, -0.18059685,  0.1641453 , -0.10275572,\n",
      "        -0.22754674, -0.20346185,  0.22552527, -0.1009148 , -0.15262687,\n",
      "        -0.04062044, -0.19760737,  0.20418064, -0.19934761, -0.06635283,\n",
      "         0.22651113,  0.34797598, -0.30629453,  0.2060792 ,  0.02709708,\n",
      "         0.2544572 ,  0.13372477,  0.35845214,  0.27935117, -0.28866987],\n",
      "       [-0.06415512, -0.07344375, -0.06818049,  0.05100889,  0.21739145,\n",
      "        -0.19871427,  0.0657125 , -0.35539949,  0.03101584,  0.15417298,\n",
      "         0.02086928, -0.09546906,  0.09816065, -0.37905355, -0.14942479,\n",
      "         0.22433886,  0.28078432,  0.27243047,  0.12253847,  0.01518581,\n",
      "         0.10574353,  0.30736666, -0.01755217, -0.16072366,  0.32929753,\n",
      "        -0.07026957, -0.03048509,  0.35097343, -0.19069146,  0.18680437],\n",
      "       [ 0.32222635,  0.1017307 ,  0.12159508,  0.14346505, -0.29320708,\n",
      "        -0.13548688,  0.18435907,  0.40281126,  0.04236633, -0.22556767,\n",
      "         0.16308009, -0.1199738 , -0.06941058, -0.00960296,  0.27264242,\n",
      "        -0.07506725,  0.31822919, -0.20807823,  0.30948953,  0.30263224,\n",
      "         0.3025661 ,  0.3637756 ,  0.17131958,  0.39902645, -0.07377294,\n",
      "        -0.40748362, -0.29273026, -0.16488836, -0.23141328, -0.02694001],\n",
      "       [-0.12268558,  0.21497965, -0.23996873, -0.0176633 ,  0.19752903,\n",
      "         0.06635538, -0.17160188, -0.05771716, -0.16857022, -0.19707468,\n",
      "        -0.1030238 , -0.15161066, -0.28132047,  0.27130985, -0.00719502,\n",
      "        -0.01389667,  0.06994575,  0.26483629,  0.18677543,  0.20697704,\n",
      "         0.26070757, -0.0723475 , -0.17727114,  0.17494226, -0.22625527,\n",
      "         0.05600445, -0.14838072,  0.13025034,  0.25471571,  0.18386699],\n",
      "       [-0.20260939,  0.08412163, -0.02442297,  0.29322606,  0.22153154,\n",
      "         0.14170006, -0.08066349,  0.27998479,  0.34433045,  0.36460175,\n",
      "         0.07238031,  0.29085771, -0.07298398, -0.14980957,  0.05726888,\n",
      "         0.22534811, -0.17726019,  0.21034013,  0.00949833,  0.01206992,\n",
      "        -0.32202342,  0.18598237, -0.0441123 ,  0.0827297 , -0.15434665,\n",
      "        -0.20442432, -0.12859745,  0.36679235, -0.07215   ,  0.37621918],\n",
      "       [-0.1233458 ,  0.08553361,  0.09144602,  0.1610951 ,  0.0417499 ,\n",
      "         0.05029295,  0.35202712, -0.35383831,  0.21627149,  0.25994194,\n",
      "         0.340947  , -0.03347753,  0.28273255,  0.13760255, -0.10207324,\n",
      "         0.24098369,  0.20041651, -0.26674486, -0.0833309 , -0.22860369,\n",
      "         0.12847964, -0.21929967,  0.027481  , -0.34557779, -0.30494204,\n",
      "         0.3417298 ,  0.31543398,  0.36185166,  0.03674006,  0.17578884],\n",
      "       [-0.22277206,  0.02040353,  0.34531997,  0.03710622,  0.05451168,\n",
      "        -0.18318447,  0.02554798, -0.19842114, -0.10016309,  0.16022107,\n",
      "         0.08447907,  0.01057617,  0.25933506, -0.22860274,  0.17099142,\n",
      "         0.28588846, -0.05552036, -0.00164545, -0.03359222, -0.24646758,\n",
      "         0.15297395,  0.09754817,  0.13915657, -0.30883148, -0.34344838,\n",
      "         0.1981442 ,  0.17596049,  0.33774211,  0.34257885, -0.08344232],\n",
      "       [ 0.12946693, -0.22764508,  0.30500729, -0.11379648,  0.15553113,\n",
      "        -0.02335758, -0.23207579,  0.13339787, -0.20873283,  0.07326743,\n",
      "        -0.10417937, -0.05320453,  0.08491882,  0.18035878, -0.33336815,\n",
      "         0.01152902, -0.21963136, -0.24898387, -0.12372674,  0.08819439,\n",
      "        -0.30455663, -0.18270529, -0.31703645, -0.19244286, -0.40437714,\n",
      "        -0.03065465, -0.15956396, -0.18352365,  0.26237394, -0.07792193],\n",
      "       [ 0.15212381, -0.04841747,  0.05409825,  0.07448706, -0.14050663,\n",
      "         0.11965012, -0.20027678,  0.3204478 ,  0.18108379, -0.00257094,\n",
      "        -0.19842265,  0.34968311, -0.09488284,  0.38476998,  0.16089283,\n",
      "        -0.27642076,  0.03410606, -0.23725313,  0.30865778,  0.01253773,\n",
      "        -0.07460367, -0.18078568,  0.00832609,  0.40081082, -0.20739261,\n",
      "        -0.15724424,  0.06068655, -0.28194175,  0.02007305,  0.32732933],\n",
      "       [-0.13693613,  0.18556832,  0.23130717,  0.32440066,  0.32441627,\n",
      "        -0.1027724 ,  0.1577713 ,  0.20581621,  0.26276364,  0.33502978,\n",
      "        -0.140858  , -0.07488521, -0.19376173, -0.21425361, -0.27680326,\n",
      "         0.12250082, -0.17790468,  0.05525482, -0.10369899,  0.04702786,\n",
      "        -0.05598099,  0.2463709 , -0.18742075, -0.21574857,  0.10435564,\n",
      "         0.38810815,  0.36133909,  0.15105153,  0.42511514,  0.16961335],\n",
      "       [ 0.29096318, -0.127183  ,  0.29430272, -0.07821955,  0.11251388,\n",
      "        -0.03811838, -0.00751637,  0.05847711, -0.13137674, -0.06545407,\n",
      "        -0.0723893 ,  0.30419303, -0.17484493, -0.24879799, -0.21542504,\n",
      "        -0.22395047, -0.09111923,  0.11829695,  0.37672839,  0.37029319,\n",
      "         0.36630073, -0.13451248,  0.13318368,  0.07923333, -0.26426057,\n",
      "        -0.10240431, -0.31576843, -0.29282609, -0.23993092,  0.31524528],\n",
      "       [ 0.11068541, -0.24519906,  0.10430481,  0.01330171, -0.17791114,\n",
      "         0.02696966, -0.05691703,  0.0511407 ,  0.09927104,  0.10439082,\n",
      "        -0.06187179, -0.26735053, -0.15644545, -0.00189789, -0.09334752,\n",
      "         0.26819917, -0.1045967 ,  0.06353252, -0.04447331,  0.17738958,\n",
      "         0.11360649,  0.29258993, -0.22046534, -0.21238796,  0.1998075 ,\n",
      "         0.29221709,  0.09703442,  0.16829046,  0.28798746,  0.22709777],\n",
      "       [ 0.20991774,  0.18007221,  0.37023563, -0.11673077, -0.20099817,\n",
      "         0.28021158,  0.17007382,  0.08820315,  0.30137572, -0.19124222,\n",
      "        -0.14093552,  0.22933916, -0.01322993, -0.23977132,  0.29799846,\n",
      "         0.0102818 ,  0.38128463,  0.2101088 , -0.04729975,  0.09029017,\n",
      "         0.25743925,  0.39623683, -0.23398163, -0.08775669, -0.06612831,\n",
      "         0.02998662,  0.01007294, -0.17181947,  0.10936449,  0.1819547 ],\n",
      "       [ 0.17716466, -0.02022727,  0.03075757,  0.2897385 , -0.20911077,\n",
      "         0.10100978,  0.14538227,  0.11675085, -0.14690826,  0.23088141,\n",
      "        -0.06272723, -0.17953917, -0.14681746, -0.26087909, -0.01359885,\n",
      "         0.14422274, -0.19631129,  0.07084067, -0.06411504,  0.04509463,\n",
      "        -0.15453615,  0.17604844, -0.15331806,  0.23899961, -0.29137651,\n",
      "        -0.32835997, -0.20303677, -0.20725187, -0.13994189,  0.02691323],\n",
      "       [ 0.04308257,  0.06002016,  0.17535025,  0.33839518,  0.10011085,\n",
      "        -0.41199111,  0.0457472 ,  0.04701783,  0.11062283,  0.03705697,\n",
      "         0.20679782,  0.10790322,  0.11976361, -0.30698025, -0.3407017 ,\n",
      "        -0.13977231, -0.1478119 ,  0.05906471, -0.1465794 ,  0.16161346,\n",
      "         0.03735362, -0.28169834, -0.07732032, -0.25890972, -0.06700732,\n",
      "        -0.11741015,  0.19642007, -0.00358196,  0.11058084, -0.33006958],\n",
      "       [-0.18926508, -0.14412233,  0.06228129,  0.12501272,  0.18178304,\n",
      "         0.00051741, -0.03557957, -0.05222797, -0.12052142,  0.32146942,\n",
      "        -0.0539209 , -0.03700553,  0.25286089, -0.15058708,  0.15636153,\n",
      "        -0.0096452 ,  0.23956309,  0.19605508, -0.09729348, -0.15490098,\n",
      "        -0.21693042,  0.28515092,  0.20320249, -0.07167789, -0.38339476,\n",
      "         0.29020601,  0.14180318,  0.32373819,  0.02538864, -0.30908216],\n",
      "       [ 0.27563334,  0.02257728,  0.20745948, -0.29239277, -0.31368222,\n",
      "         0.07277884, -0.1227009 ,  0.32806051,  0.04148477,  0.29199714,\n",
      "        -0.28716335,  0.11166419, -0.14775933,  0.27483979,  0.30753853,\n",
      "        -0.11116035,  0.26817917,  0.40366366,  0.29329546, -0.14812336,\n",
      "        -0.2010994 ,  0.29291053,  0.01790568,  0.13612684, -0.07830618,\n",
      "         0.17916481, -0.07362072, -0.03761958, -0.35572338, -0.04410679],\n",
      "       [ 0.18105864,  0.06449466, -0.1090301 ,  0.25507086, -0.16216367,\n",
      "        -0.01111807, -0.15471953, -0.3038582 , -0.20412024, -0.18781285,\n",
      "        -0.19740583,  0.077807  ,  0.25373779,  0.05438943, -0.35750412,\n",
      "         0.35190392, -0.01895897, -0.01670172,  0.11412833, -0.00231084,\n",
      "        -0.3447933 , -0.04829751, -0.08713737,  0.19908546, -0.43324061,\n",
      "         0.21140776,  0.15608291,  0.18793496,  0.21976988, -0.20435985],\n",
      "       [-0.03491612,  0.06492855,  0.19837347,  0.36959479, -0.07590691,\n",
      "         0.18530322,  0.26075479, -0.01646234,  0.28192403, -0.21200442,\n",
      "         0.10572345,  0.13555127,  0.08263241,  0.16715005, -0.26238519,\n",
      "         0.16800948,  0.02004828, -0.23734725, -0.13830807, -0.22985022,\n",
      "         0.12959051, -0.31483774, -0.11367422, -0.33894585, -0.14718697,\n",
      "        -0.16061535,  0.28694041, -0.01650238,  0.01025275, -0.16482616],\n",
      "       [ 0.22000455,  0.30189851, -0.21907816, -0.23604987,  0.12581768,\n",
      "         0.32948762, -0.27484288,  0.3958462 , -0.16734542, -0.2886715 ,\n",
      "         0.05324593,  0.26921277, -0.32867114, -0.20839645,  0.1825734 ,\n",
      "         0.20046653,  0.36310947, -0.22463612, -0.03394745,  0.38936841,\n",
      "        -0.17582019,  0.0162763 ,  0.26665354, -0.05887368, -0.25732893,\n",
      "        -0.33988197, -0.28864017,  0.05135093, -0.35508366, -0.2489489 ],\n",
      "       [-0.0689801 ,  0.1006233 ,  0.04288635,  0.09748872, -0.10737112,\n",
      "         0.03313484, -0.19460752,  0.01906591, -0.19122609,  0.24669537,\n",
      "        -0.17938545, -0.36202809, -0.12800807, -0.23536495,  0.15759955,\n",
      "        -0.07576774,  0.04273651,  0.30444118, -0.11947545, -0.00201923,\n",
      "         0.25814168, -0.21744178,  0.19317913,  0.21584093, -0.2866063 ,\n",
      "         0.27684501,  0.230569  , -0.16270287,  0.24472127, -0.17038576],\n",
      "       [-0.2238801 ,  0.35986158,  0.15396884,  0.12969589,  0.2505909 ,\n",
      "         0.19123945, -0.21918466,  0.11765647,  0.00497372, -0.18458193,\n",
      "        -0.03207819,  0.32472803,  0.14141794, -0.22508523,  0.24244036,\n",
      "        -0.20813577,  0.05483953,  0.06058304,  0.05228838,  0.09093957,\n",
      "         0.15708378,  0.03314715,  0.23131559,  0.35176085, -0.35584033,\n",
      "        -0.21680949,  0.13935623,  0.20081365,  0.10931515, -0.17721845],\n",
      "       [-0.14860603,  0.08783987, -0.07926696, -0.05686447,  0.06728421,\n",
      "         0.08050599, -0.22527508, -0.25092566, -0.05802994,  0.25069892,\n",
      "         0.05838834, -0.16552746,  0.09022922, -0.13753096, -0.23030065,\n",
      "        -0.13445824, -0.27011518, -0.22935253,  0.05806477,  0.26758053,\n",
      "         0.00538569,  0.08917754,  0.20837695,  0.25718102,  0.30283297,\n",
      "         0.23509764, -0.24278326,  0.38550025,  0.27855348, -0.18206679],\n",
      "       [ 0.36810357, -0.21097702,  0.10109141, -0.20076081,  0.18461579,\n",
      "        -0.16124613, -0.13816243,  0.10738807,  0.14632337,  0.03137871,\n",
      "        -0.01698463,  0.07485426,  0.20732225, -0.05856305, -0.24156232,\n",
      "        -0.04318853, -0.14413348,  0.0410079 ,  0.3145814 , -0.09628681,\n",
      "        -0.00821682,  0.26883328,  0.14456831,  0.30280492,  0.09700383,\n",
      "         0.03713383, -0.05241211, -0.06613622,  0.04815084, -0.08330415],\n",
      "       [ 0.02092574, -0.35808862,  0.20666035,  0.37830526,  0.02656618,\n",
      "        -0.10722311, -0.08815213,  0.147138  ,  0.17827483,  0.09627466,\n",
      "         0.12273931,  0.08673346,  0.02041356,  0.17018102,  0.24111496,\n",
      "        -0.11958031,  0.14740562,  0.0865731 , -0.18173817, -0.29673819,\n",
      "         0.22386699, -0.30288001, -0.21512948, -0.02955212,  0.21058995,\n",
      "         0.21160984, -0.17383691,  0.16449053,  0.41514573,  0.26524397],\n",
      "       [ 0.07751536,  0.25883026, -0.03681285, -0.26341919, -0.30751831,\n",
      "         0.34442078,  0.0842186 , -0.21180213,  0.23519316,  0.19807307,\n",
      "         0.11920947, -0.12328947,  0.02153732, -0.14100906,  0.28381619,\n",
      "        -0.10102148,  0.02288582,  0.1808374 ,  0.36025571,  0.10573071,\n",
      "         0.25071733, -0.03902669, -0.19939581, -0.09748249,  0.12647441,\n",
      "        -0.07241551, -0.29264552, -0.28848223, -0.30413058, -0.15084283],\n",
      "       [ 0.24318987,  0.04174142,  0.10910485, -0.36940393, -0.16849495,\n",
      "        -0.1154082 , -0.20558487,  0.14594816, -0.21222658,  0.25733217,\n",
      "         0.01858536, -0.19437736,  0.21711889,  0.1979371 , -0.08978992,\n",
      "         0.05514451,  0.004125  ,  0.41229088,  0.15477685,  0.16330276,\n",
      "         0.2796233 ,  0.13637469,  0.05693743, -0.19445209,  0.29181299,\n",
      "         0.05805976,  0.04088343, -0.36045635, -0.0190571 , -0.1674548 ],\n",
      "       [-0.24091884, -0.261069  ,  0.09384804,  0.12091189, -0.01233023,\n",
      "         0.03706116,  0.07859626, -0.23359332,  0.17653207,  0.00604287,\n",
      "         0.23198696, -0.19815426,  0.03022607,  0.17137053, -0.08774025,\n",
      "         0.17987427, -0.12074073, -0.1271069 ,  0.14722064, -0.15926764,\n",
      "         0.02086604, -0.24438911, -0.29437335, -0.28438277, -0.00199907,\n",
      "        -0.17574366,  0.08739195,  0.31868825, -0.1358387 , -0.33579447]]), array([[ -3.20394286e-01,  -3.07964828e-02,   1.75630313e-01,\n",
      "          9.56291492e-02,   5.87228317e-02,   8.87434249e-02,\n",
      "          3.59067072e-01,  -1.52121199e-01,  -1.78175521e-01,\n",
      "          1.41243216e-01,  -1.20994313e-01,  -4.24438651e-02,\n",
      "          8.42256553e-02,   1.04800906e-01,   2.16880750e-01,\n",
      "          3.75568231e-01,  -8.25954255e-02,  -1.50546998e-01,\n",
      "          1.92741632e-02,   1.31210967e-01,   3.79380893e-01,\n",
      "          3.44499489e-01,   3.42845346e-10,   3.39601400e-02,\n",
      "          2.17135678e-01,  -2.07234200e-01,   1.72690498e-01,\n",
      "          2.88088517e-01,  -2.74176488e-01,  -9.56175627e-03],\n",
      "       [  1.13388741e-01,  -7.35666422e-02,   2.95327591e-01,\n",
      "          1.51254828e-01,   3.54158691e-01,  -8.85907719e-02,\n",
      "          5.01556620e-02,  -1.37515050e-01,  -1.62251802e-01,\n",
      "         -2.83596569e-01,   2.45579290e-01,  -2.64448079e-01,\n",
      "          1.80230996e-12,   3.42517033e-01,   2.71631123e-01,\n",
      "         -2.88081015e-02,   3.53988869e-01,   1.64673832e-01,\n",
      "          2.11155473e-01,  -3.62340016e-01,  -8.66767828e-02,\n",
      "          1.72479024e-01,   6.98957608e-02,   1.33919497e-01,\n",
      "         -1.79607916e-01,   2.24790738e-02,   2.66903141e-01,\n",
      "         -1.30329972e-01,  -2.89679904e-01,  -1.42252000e-01],\n",
      "       [  9.74139277e-02,   2.88445328e-01,   2.55755024e-01,\n",
      "          3.79828936e-01,   1.95195331e-01,   3.87538065e-01,\n",
      "         -2.10155836e-01,  -8.79100018e-02,   2.41109801e-01,\n",
      "          5.92088848e-02,   1.38188976e-01,  -1.55509225e-01,\n",
      "         -8.97301979e-02,   1.36773041e-01,   6.05057076e-02,\n",
      "         -1.81759871e-01,  -6.15803176e-02,   1.88248794e-01,\n",
      "          3.10879153e-01,   3.58950092e-01,   2.09722654e-01,\n",
      "          5.31505036e-02,  -4.58663536e-03,  -2.63796900e-01,\n",
      "          2.75550608e-01,   1.08254883e-01,  -5.17593021e-02,\n",
      "         -4.20100399e-02,   1.00598534e-01,   1.55477080e-01],\n",
      "       [  3.01299300e-01,  -2.73691655e-01,  -3.43119709e-01,\n",
      "          8.34351729e-02,  -1.96513022e-03,   2.21265064e-01,\n",
      "          1.59342039e-01,   2.20818595e-01,   4.10814859e-03,\n",
      "          3.41594746e-01,   2.73262403e-01,   2.09762728e-01,\n",
      "         -7.30990042e-13,  -2.33556646e-01,  -4.64198082e-02,\n",
      "         -2.37964100e-01,  -1.06010480e-01,  -1.41138066e-02,\n",
      "         -3.61268164e-01,   3.87919512e-01,  -1.30330225e-01,\n",
      "          6.27974815e-02,  -6.88645881e-04,  -1.57909717e-01,\n",
      "          1.75952579e-01,   1.53528576e-01,   2.92412430e-01,\n",
      "          2.92326952e-01,  -2.26484343e-02,  -1.07078411e-01],\n",
      "       [  1.79945992e-02,  -1.72088292e-01,  -8.20284317e-02,\n",
      "          5.11264449e-02,  -2.23666015e-01,   2.42612130e-01,\n",
      "          1.89775999e-01,   8.99928648e-02,   4.34788116e-02,\n",
      "          3.70003613e-01,   1.44880484e-02,   2.65531252e-01,\n",
      "          1.54407638e-08,  -1.49237517e-01,  -2.82913527e-01,\n",
      "          1.44518172e-01,  -1.11360874e-01,   3.53750707e-01,\n",
      "         -1.72036553e-01,   2.81017442e-01,   1.24019119e-01,\n",
      "          1.49228117e-01,  -1.95902308e-04,   6.23351770e-02,\n",
      "         -2.46046410e-01,   1.06833806e-01,  -3.40271843e-02,\n",
      "         -5.02031858e-02,  -9.57122275e-02,  -2.70593516e-01],\n",
      "       [ -3.57183111e-01,   1.44161233e-01,  -9.19910609e-02,\n",
      "         -5.42073848e-02,   8.89902054e-02,   2.34286350e-01,\n",
      "          3.21959851e-02,  -2.94916018e-01,  -3.27179371e-01,\n",
      "          1.70047278e-01,  -1.83202723e-01,   1.04292185e-01,\n",
      "          6.84066402e-03,   9.56281987e-02,  -1.53564354e-01,\n",
      "          9.30444650e-02,   4.70626207e-02,   1.55099156e-01,\n",
      "          2.83282406e-01,  -2.00042170e-01,   1.98843208e-01,\n",
      "          1.77958812e-01,  -6.87877644e-02,  -1.11053697e-02,\n",
      "          1.46638774e-02,  -2.59427464e-01,  -7.69895738e-02,\n",
      "          2.93404848e-03,  -3.27103610e-01,  -1.71352021e-01],\n",
      "       [ -2.64144692e-01,   1.05015567e-01,   2.34618588e-01,\n",
      "         -1.60837050e-01,   2.01144685e-01,   2.63450252e-01,\n",
      "          1.52602694e-02,   2.07686244e-01,   1.83105258e-01,\n",
      "         -6.91334920e-02,   1.27505463e-01,   2.67919358e-01,\n",
      "         -8.13792007e-03,   2.86592753e-01,  -2.05423557e-01,\n",
      "         -1.10616780e-01,   3.82101609e-02,   7.45163596e-02,\n",
      "          3.07592316e-01,  -2.54204198e-01,  -9.00982912e-02,\n",
      "         -1.07001411e-02,   2.46483675e-10,   2.14542432e-01,\n",
      "          3.28168131e-02,  -2.36451461e-01,   2.41340495e-01,\n",
      "          2.81584110e-01,   1.99836649e-01,  -1.84382409e-01],\n",
      "       [  1.13402117e-01,   2.50348833e-01,   3.51248420e-01,\n",
      "         -2.91977842e-01,  -1.45080714e-01,  -3.96322485e-01,\n",
      "          2.83504345e-01,  -2.77448749e-01,  -7.11786046e-02,\n",
      "          2.31367897e-02,  -9.77867396e-02,   9.64183803e-02,\n",
      "         -1.36136000e-09,   1.04938715e-01,  -1.26848439e-01,\n",
      "          1.40484095e-01,   8.87946485e-03,  -5.15617016e-02,\n",
      "         -6.96222971e-02,  -2.78064505e-01,   7.81995983e-02,\n",
      "          1.21358989e-02,  -1.52673014e-06,   1.36538512e-01,\n",
      "          1.00003037e-02,  -3.15920511e-01,  -2.04268622e-01,\n",
      "         -3.00013358e-01,  -9.20272440e-02,   3.20262790e-01],\n",
      "       [  2.74754047e-01,  -3.71583334e-02,   2.19062331e-01,\n",
      "         -3.17061079e-01,   5.14863702e-02,  -5.99120557e-02,\n",
      "          1.25140960e-01,   2.81671039e-01,   1.75776574e-01,\n",
      "          1.35500779e-01,   6.08581871e-02,   2.39933770e-01,\n",
      "         -1.71098447e-02,  -1.08498785e-01,   9.61670705e-02,\n",
      "          1.23809605e-01,   7.04130643e-02,  -2.63247133e-01,\n",
      "         -1.82021341e-02,  -2.38014870e-02,   1.14245472e-01,\n",
      "         -1.00257876e-02,   4.03122696e-05,  -7.98477083e-02,\n",
      "          1.12688753e-01,   2.62616120e-01,  -8.58906937e-02,\n",
      "          2.28274626e-01,   2.02981839e-01,   8.53066493e-02],\n",
      "       [  1.30410311e-01,   7.04728650e-02,  -4.69858175e-02,\n",
      "         -8.84449047e-02,   1.52798704e-01,   3.51329598e-01,\n",
      "          1.63310600e-01,   9.25188847e-02,   2.85750258e-01,\n",
      "          2.28186515e-02,  -7.78549434e-02,  -5.59313715e-02,\n",
      "         -8.98661718e-02,   1.72947290e-01,  -2.87981153e-01,\n",
      "         -6.12769716e-02,   6.11874785e-04,   2.29333868e-01,\n",
      "         -1.26347034e-01,  -1.08700002e-01,  -1.63650981e-01,\n",
      "         -9.81649052e-02,  -5.31609154e-04,  -8.62615183e-02,\n",
      "          1.75565655e-01,   1.13782093e-01,  -2.85331101e-01,\n",
      "          2.57970282e-01,  -1.03928432e-01,   3.00794581e-01],\n",
      "       [ -1.48361417e-01,  -3.58588590e-01,  -3.51343193e-01,\n",
      "          1.00978991e-01,  -2.73961912e-01,  -2.66313739e-02,\n",
      "          1.72928594e-01,   3.04521540e-01,   1.64848568e-01,\n",
      "         -1.74799212e-02,   1.55445877e-02,   2.66034477e-01,\n",
      "         -4.23104285e-02,  -3.42594191e-01,  -1.69595581e-01,\n",
      "         -1.59007795e-01,  -6.42029397e-02,   2.43284964e-03,\n",
      "         -3.61159883e-01,   2.64255313e-01,  -1.77537779e-01,\n",
      "         -2.47593511e-01,   1.47144296e-12,   1.17522309e-01,\n",
      "          6.92310785e-02,   9.34337333e-02,  -1.43975897e-02,\n",
      "         -3.28997478e-02,  -1.48577382e-01,  -3.83364103e-02],\n",
      "       [ -2.32500509e-01,   3.67041465e-01,  -4.21191605e-02,\n",
      "          5.74047495e-02,  -5.57493363e-02,   1.57481490e-01,\n",
      "         -3.67677292e-02,   4.40794224e-02,  -1.71188562e-01,\n",
      "         -2.35416186e-01,  -3.39328004e-01,  -1.07384627e-01,\n",
      "         -1.69003284e-04,   2.90339049e-01,   1.16079110e-01,\n",
      "          3.37338800e-01,  -7.03201802e-02,  -1.06071865e-01,\n",
      "          3.63286489e-01,  -8.88959694e-02,   7.69403658e-02,\n",
      "          3.76142926e-01,  -8.69477589e-03,   1.67659167e-03,\n",
      "         -2.64832005e-01,   2.93300159e-01,   1.49399015e-01,\n",
      "         -7.51435833e-02,   2.00163102e-01,   3.56021781e-01],\n",
      "       [  2.41520615e-01,  -3.67824059e-01,   8.06454592e-03,\n",
      "          1.01338533e-01,   1.99506518e-01,  -1.86411211e-01,\n",
      "          1.36965381e-01,   2.43473849e-01,   2.20425163e-01,\n",
      "          1.75615620e-01,   3.57816302e-01,   1.50410301e-01,\n",
      "         -7.68133299e-02,   2.04877431e-01,  -2.71440198e-01,\n",
      "         -6.15445148e-04,  -7.14395062e-02,   8.52187215e-02,\n",
      "          5.19482340e-02,   3.14366705e-02,  -3.01767372e-01,\n",
      "          2.13951296e-01,   7.34978168e-03,   2.00853955e-01,\n",
      "          2.87062308e-02,  -1.78526276e-01,   1.00990040e-01,\n",
      "         -9.15256215e-02,   9.07747397e-02,   2.17362227e-01],\n",
      "       [ -1.30935276e-01,   1.81221227e-01,  -9.22605228e-02,\n",
      "         -1.58054867e-01,   2.49193597e-01,   2.13764931e-01,\n",
      "          3.48604342e-03,   1.01869994e-01,  -1.94901326e-01,\n",
      "         -3.20618140e-01,   2.38329723e-01,   2.56174254e-01,\n",
      "         -3.06202330e-05,   2.07832102e-01,   2.48419485e-01,\n",
      "          2.32887279e-01,   3.77968745e-01,  -3.68222625e-01,\n",
      "          2.28944017e-01,  -2.34310017e-01,   3.23378940e-01,\n",
      "         -1.06582776e-01,   3.93635636e-04,   1.26678318e-01,\n",
      "          2.17789239e-01,   1.89528231e-01,  -2.49641456e-01,\n",
      "          1.18193788e-01,   1.10537969e-01,   2.02074212e-02],\n",
      "       [ -1.23033053e-01,   4.63070467e-02,  -2.22573461e-01,\n",
      "          1.51329715e-01,   3.17059787e-01,   1.64273836e-01,\n",
      "         -5.84749432e-02,  -4.37335127e-01,  -2.78321782e-01,\n",
      "         -7.82885840e-02,   1.05322929e-01,  -3.71176488e-01,\n",
      "         -2.90999385e-12,   1.57452326e-01,  -5.51243663e-02,\n",
      "          3.66555987e-01,   6.62431932e-02,  -3.50371934e-01,\n",
      "          4.07400803e-02,  -2.74479166e-01,  -1.19848178e-01,\n",
      "         -1.51242330e-01,   2.71861426e-03,  -2.98329560e-01,\n",
      "          1.88949330e-01,  -2.48218296e-01,   1.23025233e-02,\n",
      "         -2.21438282e-01,   2.35317225e-01,  -2.50202159e-02],\n",
      "       [  3.43423971e-01,  -1.85761021e-02,  -9.90244611e-02,\n",
      "          1.01367967e-01,  -1.42194325e-01,   2.56337470e-01,\n",
      "         -3.15494252e-01,   3.63043758e-01,   1.32838756e-01,\n",
      "          1.40412189e-01,   2.23321592e-01,  -1.27242753e-01,\n",
      "          2.76689717e-03,   1.05934349e-01,   1.65485510e-02,\n",
      "         -2.24142686e-02,   1.84917055e-01,   1.56575631e-01,\n",
      "          4.99123484e-03,  -2.06845794e-01,  -2.45356438e-01,\n",
      "          1.02063739e-01,   2.64671917e-12,  -2.44570333e-01,\n",
      "         -2.18355558e-03,  -3.12783288e-03,   1.73797452e-01,\n",
      "         -4.05103354e-02,   1.02853751e-01,  -1.09269401e-04],\n",
      "       [  1.88020679e-01,   3.62085674e-01,   2.38083762e-01,\n",
      "          1.41744170e-01,   3.51564606e-01,   1.69352453e-01,\n",
      "          1.03873745e-01,  -2.48326232e-01,  -1.18314427e-01,\n",
      "         -7.42626625e-02,   5.81522403e-02,  -2.47876182e-01,\n",
      "          7.86541190e-09,   1.58511067e-02,   9.64717845e-02,\n",
      "          3.59590266e-01,   3.50114716e-01,  -1.38016167e-01,\n",
      "          3.41741339e-01,  -2.63714683e-01,   3.68235868e-01,\n",
      "         -1.14884882e-01,   1.74119971e-09,  -2.22110910e-01,\n",
      "          2.20654581e-02,  -2.58661279e-01,   1.31470695e-01,\n",
      "         -2.63391368e-01,  -3.33654877e-01,  -1.51653435e-01],\n",
      "       [  1.99661976e-01,  -1.78038156e-01,  -3.96668340e-02,\n",
      "         -2.43073933e-01,  -1.08486000e-01,  -1.16093406e-01,\n",
      "         -3.72003315e-01,   7.18673857e-02,   3.01168945e-01,\n",
      "         -5.97597647e-02,  -5.62372028e-02,  -1.52352617e-03,\n",
      "         -1.04387466e-11,   3.48433788e-01,   1.91727204e-01,\n",
      "          1.53689377e-01,   3.85298005e-01,   2.27840090e-01,\n",
      "          5.32647230e-02,   2.06612808e-01,   1.30262058e-01,\n",
      "          1.78509584e-01,   4.54356188e-12,   2.04187237e-01,\n",
      "         -1.88539012e-01,   6.40147334e-02,   8.41551391e-02,\n",
      "         -5.46100270e-03,  -2.17823314e-01,   1.88736186e-01],\n",
      "       [  5.55400047e-02,   2.36499368e-01,   3.55273704e-02,\n",
      "         -3.67258805e-01,  -1.96663866e-01,  -3.60168817e-01,\n",
      "          1.52223483e-01,  -5.73543757e-02,  -1.24364218e-01,\n",
      "         -1.34325543e-01,   1.97418701e-04,  -3.40468582e-01,\n",
      "         -4.69859065e-02,   1.55276125e-01,   1.65882055e-01,\n",
      "          3.54726026e-01,  -1.63189885e-02,  -1.00406233e-01,\n",
      "          1.12251187e-01,  -4.21378588e-01,   3.56874099e-01,\n",
      "         -1.52994660e-01,  -5.13907421e-03,  -1.02592612e-01,\n",
      "         -1.18274939e-01,   1.51649074e-01,  -1.84568830e-01,\n",
      "         -1.71663696e-01,  -3.63497671e-01,   4.19627494e-01],\n",
      "       [ -2.96969911e-01,  -1.22370599e-01,   8.20231387e-02,\n",
      "         -2.64141204e-01,   1.48745204e-01,  -4.00741120e-01,\n",
      "          4.11923663e-01,  -1.20991933e-02,  -2.13027196e-01,\n",
      "         -3.58546269e-01,  -3.78931645e-02,   3.43468089e-02,\n",
      "         -2.32530409e-02,  -3.40555236e-02,   4.28187858e-01,\n",
      "          4.41387230e-01,   9.95717411e-04,   7.52111582e-02,\n",
      "          2.83272704e-01,   1.66812830e-01,   3.94349427e-01,\n",
      "         -9.78036510e-02,  -1.57559845e-03,  -3.06921299e-01,\n",
      "          3.61572873e-01,   7.96583809e-02,  -2.35493228e-01,\n",
      "         -3.32976291e-01,   1.94128775e-01,   2.75694892e-01],\n",
      "       [ -2.74081340e-01,   2.79175995e-01,   2.71624139e-03,\n",
      "         -9.92953564e-02,   2.92966738e-01,  -2.68565165e-01,\n",
      "         -3.00586300e-01,   2.90859621e-01,   6.19985256e-02,\n",
      "          1.39622408e-01,   1.80228696e-01,   2.90786240e-01,\n",
      "         -8.34738750e-02,  -1.25083988e-01,   2.53308645e-01,\n",
      "         -4.47991985e-02,   2.49522308e-01,  -6.62328477e-02,\n",
      "          1.64841334e-01,   3.22737521e-01,   1.41783312e-01,\n",
      "          5.01869038e-02,  -9.73025902e-03,   1.59021738e-01,\n",
      "          1.98007306e-01,  -1.79303635e-03,  -2.28350235e-02,\n",
      "          1.88153660e-01,  -9.24660729e-02,   9.83718928e-02],\n",
      "       [  1.06835117e-01,  -1.51842939e-01,  -2.15763088e-01,\n",
      "         -1.36957141e-01,   3.41638475e-01,   1.13185768e-01,\n",
      "         -1.42428155e-01,  -1.30265187e-01,  -2.20688925e-01,\n",
      "         -2.88857372e-01,   1.96114374e-02,   1.67179682e-01,\n",
      "          2.50530543e-11,   1.69736097e-01,   2.56796072e-01,\n",
      "         -4.68994918e-02,   1.47868859e-01,   2.66345769e-02,\n",
      "          3.30334991e-01,  -3.48876548e-01,   8.84872346e-02,\n",
      "          3.54688183e-01,  -1.34661786e-02,   1.02481820e-02,\n",
      "          3.11481745e-01,   4.96778256e-03,   2.08439680e-01,\n",
      "         -1.50461834e-01,   3.37504856e-02,   1.04096939e-02],\n",
      "       [ -3.77699372e-02,   2.23181924e-01,   8.64192036e-02,\n",
      "         -5.23535289e-02,   8.01921716e-02,  -6.23760764e-02,\n",
      "          2.40881304e-01,  -4.48417000e-02,  -6.17302406e-03,\n",
      "          2.79784287e-01,  -1.47036007e-01,  -8.64320656e-02,\n",
      "         -4.80846037e-02,  -6.68411386e-02,   1.76742404e-01,\n",
      "         -3.10095265e-01,   6.02083002e-02,   1.78925513e-02,\n",
      "          8.26717792e-02,   2.93490094e-01,   2.80612389e-01,\n",
      "          1.02316549e-01,  -3.69680529e-12,   4.59789323e-02,\n",
      "          2.53628050e-01,  -4.26187436e-01,   1.03091038e-01,\n",
      "         -7.65839826e-02,   1.08372757e-01,   1.95661245e-02],\n",
      "       [  2.24515038e-01,   3.75038303e-01,   1.72150540e-01,\n",
      "          1.28070260e-02,  -3.40704714e-02,  -3.38459094e-01,\n",
      "          2.55843266e-01,  -2.09887798e-01,  -8.06495700e-02,\n",
      "         -8.12287150e-02,  -3.50081181e-01,  -1.43990181e-01,\n",
      "          8.29395148e-03,   1.27812128e-01,   6.17424785e-02,\n",
      "          2.38090780e-01,   7.05765923e-02,  -2.20439944e-03,\n",
      "          1.64442739e-02,  -6.88482364e-02,   7.66221432e-02,\n",
      "          1.80999601e-01,  -3.90374609e-02,  -1.36001459e-01,\n",
      "         -2.22668563e-01,  -3.46447351e-01,  -1.55637251e-01,\n",
      "         -2.56144270e-01,   1.57309508e-01,   7.83811080e-02],\n",
      "       [ -2.44194221e-01,  -3.79871264e-01,   2.15793756e-01,\n",
      "          2.23357230e-01,   2.52300928e-02,  -9.15721874e-02,\n",
      "         -6.09707274e-02,  -1.94200091e-01,  -2.12538516e-01,\n",
      "          1.68422628e-01,  -2.56086388e-01,   1.88606742e-01,\n",
      "         -2.65615668e-03,   1.77669600e-01,   3.54540641e-01,\n",
      "          3.53548645e-01,   1.01770584e-01,   3.37464338e-02,\n",
      "          3.69638107e-01,   5.25582404e-02,   1.01224574e-01,\n",
      "          1.91073716e-01,  -1.72835172e-08,  -9.94967757e-02,\n",
      "          4.02012237e-01,   2.23006497e-01,   4.87525903e-02,\n",
      "         -2.77143825e-01,  -1.41401943e-01,   3.16165852e-01],\n",
      "       [  3.07750550e-01,   5.13867734e-02,  -8.40427590e-02,\n",
      "         -1.42205962e-01,  -1.01518382e-01,   2.94976165e-01,\n",
      "          2.43959960e-01,   5.63942108e-01,   3.27518646e-01,\n",
      "          4.16916999e-01,   1.98203364e-04,   1.73063147e-01,\n",
      "         -7.70135625e-02,  -1.62843473e-01,   1.18687283e-01,\n",
      "         -3.35567925e-01,  -1.88097641e-02,   1.26262781e-01,\n",
      "         -4.27420590e-01,   1.50069054e-01,   1.73219567e-01,\n",
      "         -2.34573650e-01,  -7.32716138e-02,  -5.53500278e-02,\n",
      "         -2.94112026e-01,   2.76181892e-01,  -2.28488719e-01,\n",
      "          1.32683832e-01,  -1.53793805e-01,  -4.76463174e-01],\n",
      "       [ -1.72436575e-02,   7.53667410e-03,  -2.12329321e-01,\n",
      "         -4.02514679e-02,  -1.48242447e-01,   2.51990431e-01,\n",
      "          2.25569308e-01,   6.57563289e-01,  -1.56835991e-01,\n",
      "         -6.67021235e-02,   1.22396704e-01,   3.72033069e-01,\n",
      "          1.49033965e-06,  -3.10088656e-01,  -3.33330921e-01,\n",
      "         -2.23868124e-01,  -2.67609363e-01,   1.01904793e-02,\n",
      "         -1.46643358e-01,  -8.79643785e-02,   1.53472441e-01,\n",
      "          1.81159025e-01,   1.18694058e-02,  -2.15879838e-02,\n",
      "         -9.73336013e-02,   3.90720095e-01,  -9.18145479e-02,\n",
      "         -3.95913477e-02,   2.81107937e-01,  -2.45476065e-01],\n",
      "       [  2.77737480e-01,  -3.95764964e-02,   9.26038295e-02,\n",
      "          2.75650607e-01,  -2.05255451e-02,  -1.98842504e-02,\n",
      "         -1.64745749e-01,   9.45451325e-02,   2.32441797e-01,\n",
      "         -3.18422791e-02,   1.42806716e-01,   2.67698359e-01,\n",
      "         -2.26899264e-05,  -8.39749491e-02,   2.22353619e-01,\n",
      "          2.15698901e-01,  -1.44732313e-01,   8.22832029e-02,\n",
      "          6.70893903e-03,   3.08833102e-01,  -3.72293922e-02,\n",
      "         -2.21912790e-01,  -3.85161729e-02,  -2.69594169e-01,\n",
      "         -1.20175378e-01,   3.64046312e-02,  -1.35576141e-01,\n",
      "          2.89526537e-01,   2.57763314e-01,  -3.32802049e-01],\n",
      "       [  3.32540110e-01,  -2.91083501e-02,  -1.75630063e-01,\n",
      "         -1.36116872e-01,  -9.96122821e-02,   3.10666339e-01,\n",
      "         -7.77917941e-02,   5.16663871e-01,   3.58707414e-02,\n",
      "          3.81590747e-01,   5.40083406e-02,   3.19636629e-01,\n",
      "          6.48232287e-06,   1.26488807e-01,  -1.91882778e-01,\n",
      "          9.23494397e-02,  -3.09142725e-01,   4.47142890e-02,\n",
      "         -2.48091196e-01,   3.70138846e-01,  -2.13433387e-01,\n",
      "         -2.24480901e-01,  -7.77159442e-13,   5.45151830e-02,\n",
      "         -1.16118676e-01,   4.79346215e-01,   3.16697637e-01,\n",
      "          3.81882751e-01,   4.56002299e-02,  -1.06453219e-01],\n",
      "       [  1.66976334e-01,   1.25105801e-01,  -1.05978841e-01,\n",
      "          7.55550828e-02,   4.23471581e-01,   2.14975068e-01,\n",
      "         -1.81524964e-02,  -2.42916614e-01,   1.30670754e-02,\n",
      "          1.22948152e-01,  -2.88247605e-01,   1.21355216e-01,\n",
      "          9.02280349e-02,   2.79795505e-01,   3.42842678e-01,\n",
      "          1.82516770e-01,   1.09383434e-01,   1.23910205e-02,\n",
      "          3.56595766e-01,   1.37081837e-01,   1.07793865e-02,\n",
      "          3.02379891e-01,  -2.28412881e-02,  -2.09372534e-01,\n",
      "          3.00451172e-01,  -1.66079895e-01,  -1.51176070e-01,\n",
      "         -2.98339226e-01,  -2.21896231e-01,   2.66546019e-01]]), array([[ 0.25468986],\n",
      "       [-0.3512344 ],\n",
      "       [-0.1395752 ],\n",
      "       [ 0.33101459],\n",
      "       [-0.38843081],\n",
      "       [ 0.39494596],\n",
      "       [-0.21435886],\n",
      "       [ 0.23978867],\n",
      "       [ 0.53941477],\n",
      "       [ 0.16916197],\n",
      "       [ 0.19336429],\n",
      "       [ 0.18173484],\n",
      "       [-0.097037  ],\n",
      "       [-0.35075251],\n",
      "       [-0.20882516],\n",
      "       [-0.35750943],\n",
      "       [-0.16751357],\n",
      "       [ 0.16713912],\n",
      "       [-0.26390541],\n",
      "       [ 0.24138648],\n",
      "       [-0.52538765],\n",
      "       [-0.52795147],\n",
      "       [-0.00193578],\n",
      "       [ 0.19401014],\n",
      "       [-0.02331193],\n",
      "       [ 0.4119825 ],\n",
      "       [ 0.13332175],\n",
      "       [ 0.4505515 ],\n",
      "       [ 0.35706855],\n",
      "       [-0.41830156]])]\n"
     ]
    }
   ],
   "source": [
    "print(mlp.coefs_)"
   ]
  },
  {
   "cell_type": "markdown",
   "metadata": {},
   "source": [
    "The last matrix contains all the weights in each layer in a separate list. From this matrix we can also predict the number of layers in our model and the number of hidden units in each hidden layer."
   ]
  },
  {
   "cell_type": "code",
   "execution_count": 42,
   "metadata": {},
   "outputs": [
    {
     "name": "stdout",
     "output_type": "stream",
     "text": [
      "4  (  30 30 30 30  )\n"
     ]
    }
   ],
   "source": [
    "print(len(mlp.coefs_), \" ( \", len(mlp.coefs_[0]), len(mlp.coefs_[1]), len(mlp.coefs_[2]), len(mlp.coefs_[3]), \" )\")"
   ]
  },
  {
   "cell_type": "markdown",
   "metadata": {},
   "source": [
    "Hence we conclude that we have got 4 layers in our model, three of which are, obviously, hidden layers. And we have got 30 weights  "
   ]
  },
  {
   "cell_type": "code",
   "execution_count": 39,
   "metadata": {},
   "outputs": [
    {
     "name": "stdout",
     "output_type": "stream",
     "text": [
      "[array([ 0.02047145,  0.26293088,  0.19671821,  0.03413485,  0.24612118,\n",
      "       -0.13506287,  0.20009518, -0.16376145, -0.00878485,  0.04690711,\n",
      "        0.04195848, -0.16542978, -0.16526493,  0.19476513,  0.08820789,\n",
      "       -0.21859601,  0.17308464,  0.14144526,  0.3285034 ,  0.05620485,\n",
      "       -0.20947093, -0.26934872,  0.22528931,  0.34552412,  0.16081693,\n",
      "        0.26569331,  0.34766716,  0.1472701 ,  0.08203576,  0.08168188]), array([ 0.26884086,  0.27677775,  0.18922119, -0.12859842,  0.22039755,\n",
      "       -0.11603987, -0.0214034 ,  0.05424476,  0.32902146,  0.10021394,\n",
      "       -0.12347479,  0.07949354,  0.02835494,  0.30174971,  0.12522953,\n",
      "        0.35837346, -0.22017406,  0.20552109, -0.15472781,  0.14661678,\n",
      "        0.28625203,  0.09481724,  0.17597229,  0.2262648 ,  0.0408351 ,\n",
      "       -0.08258176,  0.04511661,  0.34722962,  0.080089  ,  0.15687496]), array([-0.15189179,  0.11865389,  0.17615393,  0.38249776, -0.13315283,\n",
      "        0.35434826, -0.11385072, -0.16847963, -0.04956787,  0.09032512,\n",
      "       -0.06773082, -0.18473056, -0.1919001 , -0.09225513,  0.25163596,\n",
      "        0.03199089, -0.04885712,  0.01770139,  0.10658783,  0.28429202,\n",
      "       -0.08344735,  0.18458187, -0.28928729,  0.2597401 ,  0.32473602,\n",
      "        0.12320214, -0.22213359, -0.01570203,  0.34216248,  0.2940438 ]), array([ 0.46955975])]\n"
     ]
    }
   ],
   "source": [
    "print(mlp.intercepts_)"
   ]
  },
  {
   "cell_type": "markdown",
   "metadata": {},
   "source": [
    "This is a matrix containing all the biases in each layer in a separate list."
   ]
  },
  {
   "cell_type": "code",
   "execution_count": 41,
   "metadata": {},
   "outputs": [
    {
     "name": "stdout",
     "output_type": "stream",
     "text": [
      "4  (  30 30 30 1  ) \n"
     ]
    }
   ],
   "source": [
    "print(len(mlp.intercepts_), \" ( \", len(mlp.intercepts_[0]), len(mlp.intercepts_[1]), len(mlp.intercepts_[2]), len(mlp.intercepts_[3]), \" ) \")"
   ]
  },
  {
   "cell_type": "code",
   "execution_count": null,
   "metadata": {
    "collapsed": true
   },
   "outputs": [],
   "source": []
  }
 ],
 "metadata": {
  "kernelspec": {
   "display_name": "Python 3",
   "language": "python",
   "name": "python3"
  },
  "language_info": {
   "codemirror_mode": {
    "name": "ipython",
    "version": 3
   },
   "file_extension": ".py",
   "mimetype": "text/x-python",
   "name": "python",
   "nbconvert_exporter": "python",
   "pygments_lexer": "ipython3",
   "version": "3.6.1"
  }
 },
 "nbformat": 4,
 "nbformat_minor": 2
}
